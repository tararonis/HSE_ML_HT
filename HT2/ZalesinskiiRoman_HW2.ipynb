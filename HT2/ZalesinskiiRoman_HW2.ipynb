{
 "cells": [
  {
   "cell_type": "markdown",
   "metadata": {},
   "source": [
    "### Домашня работа 2.\n",
    "### Логистическая регрессия. Работа с признаками"
   ]
  },
  {
   "cell_type": "markdown",
   "metadata": {},
   "source": [
    "\n",
    "### Оценивание и штрафы\n",
    "Каждая из задач имеет определенную «стоимость» (указана в скобках около задачи). Максимально допустимая оценка за работу — 15 баллов. Можно получить 4.5 бонусных балла.\n",
    "\n",
    "Неэффективная реализация кода может негативно отразиться на оценке."
   ]
  },
  {
   "cell_type": "code",
   "execution_count": 2,
   "metadata": {},
   "outputs": [
    {
     "name": "stdout",
     "output_type": "stream",
     "text": [
      "Всем удачи!👒 Тут она точно пригодится.\n"
     ]
    }
   ],
   "source": [
    "print('Всем удачи!👒 Тут она точно пригодится.')"
   ]
  },
  {
   "cell_type": "code",
   "execution_count": 3,
   "metadata": {
    "ExecuteTime": {
     "end_time": "2019-10-16T18:11:48.202066Z",
     "start_time": "2019-10-16T18:11:46.362572Z"
    }
   },
   "outputs": [
    {
     "name": "stdout",
     "output_type": "stream",
     "text": [
      "%pylab is deprecated, use %matplotlib inline and import the required libraries.\n",
      "Populating the interactive namespace from numpy and matplotlib\n"
     ]
    },
    {
     "name": "stderr",
     "output_type": "stream",
     "text": [
      "2023-12-23 14:59:39.416248: I external/local_tsl/tsl/cuda/cudart_stub.cc:31] Could not find cuda drivers on your machine, GPU will not be used.\n",
      "2023-12-23 14:59:39.661504: E external/local_xla/xla/stream_executor/cuda/cuda_dnn.cc:9261] Unable to register cuDNN factory: Attempting to register factory for plugin cuDNN when one has already been registered\n",
      "2023-12-23 14:59:39.661582: E external/local_xla/xla/stream_executor/cuda/cuda_fft.cc:607] Unable to register cuFFT factory: Attempting to register factory for plugin cuFFT when one has already been registered\n",
      "2023-12-23 14:59:39.705694: E external/local_xla/xla/stream_executor/cuda/cuda_blas.cc:1515] Unable to register cuBLAS factory: Attempting to register factory for plugin cuBLAS when one has already been registered\n",
      "2023-12-23 14:59:39.808070: I external/local_tsl/tsl/cuda/cudart_stub.cc:31] Could not find cuda drivers on your machine, GPU will not be used.\n",
      "2023-12-23 14:59:39.809649: I tensorflow/core/platform/cpu_feature_guard.cc:182] This TensorFlow binary is optimized to use available CPU instructions in performance-critical operations.\n",
      "To enable the following instructions: AVX2 FMA, in other operations, rebuild TensorFlow with the appropriate compiler flags.\n",
      "2023-12-23 14:59:41.050427: W tensorflow/compiler/tf2tensorrt/utils/py_utils.cc:38] TF-TRT Warning: Could not find TensorRT\n"
     ]
    }
   ],
   "source": [
    "%pylab inline\n",
    "\n",
    "import tensorflow as tf\n",
    "import pandas as pd\n",
    "from matplotlib import pyplot as plt\n",
    "\n",
    "from sklearn.linear_model import LogisticRegression\n",
    "from sklearn.datasets import make_classification\n",
    "from sklearn.model_selection import train_test_split\n",
    "\n",
    "import random"
   ]
  },
  {
   "cell_type": "markdown",
   "metadata": {},
   "source": [
    "## Часть 1. Логистическая регрессия своими руками (4 балла)"
   ]
  },
  {
   "cell_type": "markdown",
   "metadata": {
    "ExecuteTime": {
     "end_time": "2018-10-12T07:36:04.765536Z",
     "start_time": "2018-10-12T07:35:57.814973Z"
    }
   },
   "source": [
    "Реализуйте логистическую регрессию, обучаемую с помощью:\n",
    "\n",
    "**Задание 1 (1.5 балла). Градиентного спуска**\n",
    "\n",
    "**Задание 2 (1.5 балла). Стохастического градиентного спуска**\n",
    "\n",
    "Во всех пунктах необходимо соблюдать следующие условия:\n",
    "- Градиентный спуск необходимо записать в векторном виде\n",
    "- Циклы средствами python допускается использовать только для итераций градиентного спуска;\n",
    "- В качестве критерия останова необходимо использовать (одновременно):\n",
    "\n",
    "        проверку на евклидову норму разности весов на двух соседних итерациях (например, меньше некоторого малого числа порядка $10^{-6}$) задаваемого параметром `tolerance`;\n",
    "\n",
    "\n",
    "        достижение максимального числа итераций (например, 10000), задаваемого параметром `max_iter`.\n",
    "\n",
    "Чтобы проследить, что оптимизационный процесс действительно сходится, будем использовать атрибут класса loss_history. В нём после вызова метода fit должны содержаться значения функции потерь для всех итераций, начиная с первой (до совершения первого шага по антиградиенту);\n",
    "\n",
    "Инициализировать веса можно случайным образом или нулевым вектором."
   ]
  },
  {
   "cell_type": "markdown",
   "metadata": {},
   "source": [
    "Полезно [почитать](https://scikit-learn.org/stable/developers/develop.html)."
   ]
  },
  {
   "cell_type": "code",
   "execution_count": 4,
   "metadata": {
    "ExecuteTime": {
     "end_time": "2019-10-16T18:11:50.932537Z",
     "start_time": "2019-10-16T18:11:50.752839Z"
    }
   },
   "outputs": [],
   "source": [
    "import numpy as np\n",
    "from sklearn.base import BaseEstimator\n",
    "\n",
    "class LogReg(BaseEstimator):\n",
    "    def __init__(self, \n",
    "                gd_type='stochastic', \n",
    "                tolerance=1e-4,\n",
    "                max_iter=1000,\n",
    "                w0=None,\n",
    "                eta=1e-2,\n",
    "                batch_size=100):\n",
    "        \"\"\"\n",
    "        gd_type: 'full' or 'stochastic' \n",
    "        tolerance: for stopping gradient descent\n",
    "        max_iter: maximum number of steps in gradient descent\n",
    "        w0: np.array of shape (d) — init weights\n",
    "        eta: learning rate\n",
    "        batch_size: number of training instances\n",
    "        \"\"\"\n",
    "        self.gd_type = gd_type\n",
    "        self.tolerance = tolerance\n",
    "        self.max_iter = max_iter\n",
    "        self.w0 = w0\n",
    "        #self.alpha = alpha\n",
    "        self.w = None\n",
    "        self.eta = eta\n",
    "        self.loss_history = None # list of loss function values at each training iteration\n",
    "        self.batch_size=batch_size\n",
    "    \n",
    "    def fit(self, X, y):\n",
    "        \"\"\"\n",
    "        X: np.array of shape (ell, d)\n",
    "        y: np.array of shape (ell)\n",
    "        ---\n",
    "        output: self\n",
    "        \"\"\"\n",
    "        self.loss_history = []\n",
    "        ell, d = X.shape\n",
    "        X = np.array(X)\n",
    "        y = y.reshape(ell, 1)\n",
    "        \n",
    "        if not self.w0:\n",
    "            self.w0 = np.random.rand(d, 1)\n",
    "        self.w = self.w0\n",
    "        \n",
    "        if self.gd_type == 'full':\n",
    "            loss_0 = self.calc_loss(X, y)\n",
    "            self.loss_history.append(loss_0)\n",
    "            \n",
    "            for step in range(self.max_iter):\n",
    "                grad = self.calc_gradient(X, y)\n",
    "                self.w -= self.eta * grad.reshape(d, 1)\n",
    "                \n",
    "                loss = self.calc_loss(X, y)\n",
    "                self.loss_history.append(loss)\n",
    "                \n",
    "                diff_stop = sum(abs(np.diff(self.loss_history[-3:])))\n",
    "                \n",
    "                if step > 3 and diff_stop <= self.tolerance:\n",
    "                    break\n",
    "        \n",
    "        elif self.gd_type == 'stochastic':\n",
    "            if self.batch_size > ell:\n",
    "                raise Exception(\n",
    "                    '''\n",
    "                    The batch size is bigger than the number of samples in the data.\n",
    "                    Please, use full gradient descent type insted (gd_type=\"full\").\n",
    "                    ''')\n",
    "            \n",
    "            for step in range(self.max_iter):\n",
    "                indices = np.random.randint(0, ell, size=self.batch_size)\n",
    "                X_batch = X[indices]\n",
    "                y_batch = y[indices]\n",
    "                \n",
    "                if step == 0:\n",
    "                    loss_0 = self.calc_loss(X_batch, y_batch)\n",
    "                    self.loss_history.append(loss_0)\n",
    "                \n",
    "                grad = self.calc_gradient(X_batch, y_batch)\n",
    "                reg = 1 / (step + 1)\n",
    "                self.w -= reg * self.eta * grad.reshape(d, 1)\n",
    "                \n",
    "                loss = self.calc_loss(X_batch, y_batch)\n",
    "                self.loss_history.append(loss)\n",
    "                \n",
    "                diff_stop = sum(abs(np.diff(self.loss_history[-3:])))\n",
    "                \n",
    "                if step > 3 and diff_stop <= self.tolerance:\n",
    "                    break\n",
    "        \n",
    "        return self\n",
    "       \n",
    "    \n",
    "    \n",
    "    def predict_proba(self, X):\n",
    "        if self.w is None:\n",
    "            raise Exception('Not trained yet')\n",
    "        #╰( ͡° ͜ʖ ͡° )つ──☆*:・ﾟ\n",
    "        X = np.array(X)\n",
    "        args = X @ self.w\n",
    "        probas = 1 / (1 + np.exp(-args))\n",
    "\n",
    "        return probas\n",
    "    \n",
    "    \n",
    "    def predict(self, X):\n",
    "        if self.w is None:\n",
    "            raise Exception('Not trained yet')\n",
    "        #╰( ͡° ͜ʖ ͡° )つ──☆*:・ﾟ\n",
    "        X = np.array(X)\n",
    "        pred_probas = self.predict_proba(X)\n",
    "        pred_classes = (pred_probas >= 0.5).astype(int)\n",
    "\n",
    "        return pred_classes\n",
    "    \n",
    "    def calc_gradient(self, X, y):\n",
    "        \"\"\"\n",
    "        X: np.array of shape (ell, d) (ell can be equal to 1 if stochastic)\n",
    "        y: np.array of shape (ell)\n",
    "        ---\n",
    "        output: np.array of shape (d)\n",
    "        \"\"\"\n",
    "        #╰( ͡° ͜ʖ ͡° )つ──☆*:・ﾟ\n",
    "        X = np.array(X)\n",
    "        y = y.reshape(X.shape[0], 1)\n",
    "        pred = self.predict_proba(X)\n",
    "        grad = (pred - y).reshape(1, X.shape[0]) @ X\n",
    "\n",
    "        return grad\n",
    "\n",
    "    def calc_loss(self, X, y):\n",
    "        \"\"\"\n",
    "        X: np.array of shape (ell, d)\n",
    "        y: np.array of shape (ell)\n",
    "        ---\n",
    "        output: float \n",
    "        \"\"\" \n",
    "        #╰( ͡° ͜ʖ ͡° )つ──☆*:・ﾟ\n",
    "        X = np.array(X)\n",
    "        y = y.reshape(X.shape[0], 1)\n",
    "        pred = self.predict_proba(X)\n",
    "        loss = np.mean(-y * np.log(1e-4 + pred) - (1 - y) * np.log(1 + 1e-4 - pred))\n",
    "\n",
    "        return loss"
   ]
  },
  {
   "cell_type": "markdown",
   "metadata": {},
   "source": [
    "Синтетические данные"
   ]
  },
  {
   "cell_type": "code",
   "execution_count": 5,
   "metadata": {},
   "outputs": [
    {
     "name": "stdout",
     "output_type": "stream",
     "text": [
      "%pylab is deprecated, use %matplotlib inline and import the required libraries.\n",
      "Populating the interactive namespace from numpy and matplotlib\n"
     ]
    },
    {
     "name": "stderr",
     "output_type": "stream",
     "text": [
      "/home/roman/.local/lib/python3.10/site-packages/IPython/core/magics/pylab.py:162: UserWarning: pylab import has clobbered these variables: ['random']\n",
      "`%matplotlib` prevents importing * from pylab and numpy\n",
      "  warn(\"pylab import has clobbered these variables: %s\"  % clobbered +\n"
     ]
    }
   ],
   "source": [
    "%pylab inline\n",
    "import pandas as pd\n",
    "\n",
    "from sklearn.datasets import make_classification\n",
    "from sklearn.model_selection import train_test_split"
   ]
  },
  {
   "cell_type": "code",
   "execution_count": 6,
   "metadata": {},
   "outputs": [],
   "source": [
    "X, y = make_classification(\n",
    "    n_samples=100000, n_features=20, n_informative=10, n_redundant=10,\n",
    "    random_state=42)\n",
    "\n",
    "X_train, X_test, y_train, y_test = train_test_split(\n",
    "    X, y, test_size=0.3, random_state=42)"
   ]
  },
  {
   "cell_type": "markdown",
   "metadata": {},
   "source": [
    "**Важно:** далее предполагается, что вы используете собственную реализацию логистической регрессии.\n",
    "Если с написанием класса возникли проблемы, используйте реализацию sklearn, чтобы не терять баллы за остальные задания."
   ]
  },
  {
   "cell_type": "markdown",
   "metadata": {},
   "source": [
    "**Задание 3 (1 балл)**\n",
    "\n",
    "Обучите логистическую регрессию на синтетических данных."
   ]
  },
  {
   "cell_type": "code",
   "execution_count": 7,
   "metadata": {
    "ExecuteTime": {
     "end_time": "2018-10-11T20:39:43.088969Z",
     "start_time": "2018-10-11T20:39:43.084985Z"
    }
   },
   "outputs": [
    {
     "name": "stderr",
     "output_type": "stream",
     "text": [
      "/tmp/ipykernel_1298403/4110918471.py:101: RuntimeWarning: overflow encountered in exp\n",
      "  probas = 1 / (1 + np.exp(-args))\n"
     ]
    },
    {
     "name": "stdout",
     "output_type": "stream",
     "text": [
      "CPU times: user 1.13 s, sys: 2.83 s, total: 3.95 s\n",
      "Wall time: 557 ms\n"
     ]
    },
    {
     "data": {
      "text/html": [
       "<style>#sk-container-id-1 {color: black;}#sk-container-id-1 pre{padding: 0;}#sk-container-id-1 div.sk-toggleable {background-color: white;}#sk-container-id-1 label.sk-toggleable__label {cursor: pointer;display: block;width: 100%;margin-bottom: 0;padding: 0.3em;box-sizing: border-box;text-align: center;}#sk-container-id-1 label.sk-toggleable__label-arrow:before {content: \"▸\";float: left;margin-right: 0.25em;color: #696969;}#sk-container-id-1 label.sk-toggleable__label-arrow:hover:before {color: black;}#sk-container-id-1 div.sk-estimator:hover label.sk-toggleable__label-arrow:before {color: black;}#sk-container-id-1 div.sk-toggleable__content {max-height: 0;max-width: 0;overflow: hidden;text-align: left;background-color: #f0f8ff;}#sk-container-id-1 div.sk-toggleable__content pre {margin: 0.2em;color: black;border-radius: 0.25em;background-color: #f0f8ff;}#sk-container-id-1 input.sk-toggleable__control:checked~div.sk-toggleable__content {max-height: 200px;max-width: 100%;overflow: auto;}#sk-container-id-1 input.sk-toggleable__control:checked~label.sk-toggleable__label-arrow:before {content: \"▾\";}#sk-container-id-1 div.sk-estimator input.sk-toggleable__control:checked~label.sk-toggleable__label {background-color: #d4ebff;}#sk-container-id-1 div.sk-label input.sk-toggleable__control:checked~label.sk-toggleable__label {background-color: #d4ebff;}#sk-container-id-1 input.sk-hidden--visually {border: 0;clip: rect(1px 1px 1px 1px);clip: rect(1px, 1px, 1px, 1px);height: 1px;margin: -1px;overflow: hidden;padding: 0;position: absolute;width: 1px;}#sk-container-id-1 div.sk-estimator {font-family: monospace;background-color: #f0f8ff;border: 1px dotted black;border-radius: 0.25em;box-sizing: border-box;margin-bottom: 0.5em;}#sk-container-id-1 div.sk-estimator:hover {background-color: #d4ebff;}#sk-container-id-1 div.sk-parallel-item::after {content: \"\";width: 100%;border-bottom: 1px solid gray;flex-grow: 1;}#sk-container-id-1 div.sk-label:hover label.sk-toggleable__label {background-color: #d4ebff;}#sk-container-id-1 div.sk-serial::before {content: \"\";position: absolute;border-left: 1px solid gray;box-sizing: border-box;top: 0;bottom: 0;left: 50%;z-index: 0;}#sk-container-id-1 div.sk-serial {display: flex;flex-direction: column;align-items: center;background-color: white;padding-right: 0.2em;padding-left: 0.2em;position: relative;}#sk-container-id-1 div.sk-item {position: relative;z-index: 1;}#sk-container-id-1 div.sk-parallel {display: flex;align-items: stretch;justify-content: center;background-color: white;position: relative;}#sk-container-id-1 div.sk-item::before, #sk-container-id-1 div.sk-parallel-item::before {content: \"\";position: absolute;border-left: 1px solid gray;box-sizing: border-box;top: 0;bottom: 0;left: 50%;z-index: -1;}#sk-container-id-1 div.sk-parallel-item {display: flex;flex-direction: column;z-index: 1;position: relative;background-color: white;}#sk-container-id-1 div.sk-parallel-item:first-child::after {align-self: flex-end;width: 50%;}#sk-container-id-1 div.sk-parallel-item:last-child::after {align-self: flex-start;width: 50%;}#sk-container-id-1 div.sk-parallel-item:only-child::after {width: 0;}#sk-container-id-1 div.sk-dashed-wrapped {border: 1px dashed gray;margin: 0 0.4em 0.5em 0.4em;box-sizing: border-box;padding-bottom: 0.4em;background-color: white;}#sk-container-id-1 div.sk-label label {font-family: monospace;font-weight: bold;display: inline-block;line-height: 1.2em;}#sk-container-id-1 div.sk-label-container {text-align: center;}#sk-container-id-1 div.sk-container {/* jupyter's `normalize.less` sets `[hidden] { display: none; }` but bootstrap.min.css set `[hidden] { display: none !important; }` so we also need the `!important` here to be able to override the default hidden behavior on the sphinx rendered scikit-learn.org. See: https://github.com/scikit-learn/scikit-learn/issues/21755 */display: inline-block !important;position: relative;}#sk-container-id-1 div.sk-text-repr-fallback {display: none;}</style><div id=\"sk-container-id-1\" class=\"sk-top-container\"><div class=\"sk-text-repr-fallback\"><pre>LogReg(batch_size=500, eta=0.2,\n",
       "       w0=array([[ 36.43491959],\n",
       "       [ 13.98873486],\n",
       "       [-49.47743717],\n",
       "       [-24.86641153],\n",
       "       [ 11.46544124],\n",
       "       [ -2.90869775],\n",
       "       [ 24.09968042],\n",
       "       [-15.81520738],\n",
       "       [ 37.16204038],\n",
       "       [  1.77040755],\n",
       "       [ -5.83261148],\n",
       "       [ 13.74160646],\n",
       "       [ 27.03900797],\n",
       "       [ -6.17428965],\n",
       "       [ -1.66565472],\n",
       "       [-42.60552012],\n",
       "       [  0.84414563],\n",
       "       [-27.75307758],\n",
       "       [ 30.30225918],\n",
       "       [  7.84548308]]))</pre><b>In a Jupyter environment, please rerun this cell to show the HTML representation or trust the notebook. <br />On GitHub, the HTML representation is unable to render, please try loading this page with nbviewer.org.</b></div><div class=\"sk-container\" hidden><div class=\"sk-item\"><div class=\"sk-estimator sk-toggleable\"><input class=\"sk-toggleable__control sk-hidden--visually\" id=\"sk-estimator-id-1\" type=\"checkbox\" checked><label for=\"sk-estimator-id-1\" class=\"sk-toggleable__label sk-toggleable__label-arrow\">LogReg</label><div class=\"sk-toggleable__content\"><pre>LogReg(batch_size=500, eta=0.2,\n",
       "       w0=array([[ 36.43491959],\n",
       "       [ 13.98873486],\n",
       "       [-49.47743717],\n",
       "       [-24.86641153],\n",
       "       [ 11.46544124],\n",
       "       [ -2.90869775],\n",
       "       [ 24.09968042],\n",
       "       [-15.81520738],\n",
       "       [ 37.16204038],\n",
       "       [  1.77040755],\n",
       "       [ -5.83261148],\n",
       "       [ 13.74160646],\n",
       "       [ 27.03900797],\n",
       "       [ -6.17428965],\n",
       "       [ -1.66565472],\n",
       "       [-42.60552012],\n",
       "       [  0.84414563],\n",
       "       [-27.75307758],\n",
       "       [ 30.30225918],\n",
       "       [  7.84548308]]))</pre></div></div></div></div></div>"
      ],
      "text/plain": [
       "LogReg(batch_size=500, eta=0.2,\n",
       "       w0=array([[ 36.43491959],\n",
       "       [ 13.98873486],\n",
       "       [-49.47743717],\n",
       "       [-24.86641153],\n",
       "       [ 11.46544124],\n",
       "       [ -2.90869775],\n",
       "       [ 24.09968042],\n",
       "       [-15.81520738],\n",
       "       [ 37.16204038],\n",
       "       [  1.77040755],\n",
       "       [ -5.83261148],\n",
       "       [ 13.74160646],\n",
       "       [ 27.03900797],\n",
       "       [ -6.17428965],\n",
       "       [ -1.66565472],\n",
       "       [-42.60552012],\n",
       "       [  0.84414563],\n",
       "       [-27.75307758],\n",
       "       [ 30.30225918],\n",
       "       [  7.84548308]]))"
      ]
     },
     "execution_count": 7,
     "metadata": {},
     "output_type": "execute_result"
    }
   ],
   "source": [
    "%%time\n",
    "model = LogReg(gd_type='stochastic', max_iter=1000, eta=0.2, batch_size=500)\n",
    "model.fit(X_train, y_train)"
   ]
  },
  {
   "cell_type": "markdown",
   "metadata": {},
   "source": [
    "На тестовой части посчитайте ROC-AUC, PR-AUC. Постройте ROC и PR кривые. Проинтерпретируйте результат."
   ]
  },
  {
   "cell_type": "code",
   "execution_count": 8,
   "metadata": {},
   "outputs": [],
   "source": [
    "from sklearn.metrics import roc_auc_score, auc, roc_curve, precision_recall_curve"
   ]
  },
  {
   "cell_type": "code",
   "execution_count": 9,
   "metadata": {},
   "outputs": [
    {
     "name": "stderr",
     "output_type": "stream",
     "text": [
      "/tmp/ipykernel_1298403/4110918471.py:101: RuntimeWarning: overflow encountered in exp\n",
      "  probas = 1 / (1 + np.exp(-args))\n"
     ]
    }
   ],
   "source": [
    "y_pred = model.predict(X_test)"
   ]
  },
  {
   "cell_type": "code",
   "execution_count": 10,
   "metadata": {},
   "outputs": [
    {
     "name": "stdout",
     "output_type": "stream",
     "text": [
      "ROC-AUC: 0.847499950177458\n",
      "PR-AUC: 0.8852023136017241\n"
     ]
    }
   ],
   "source": [
    "# Рассчитываем ROC-AUC\n",
    "roc_auc = roc_auc_score(y_test, y_pred)\n",
    "print(\"ROC-AUC:\", roc_auc)\n",
    "\n",
    "# Рассчитываем PR-AUC\n",
    "precision, recall, _ = precision_recall_curve(y_test, y_pred)\n",
    "pr_auc = auc(recall, precision)\n",
    "print(\"PR-AUC:\", pr_auc)"
   ]
  },
  {
   "cell_type": "code",
   "execution_count": 11,
   "metadata": {},
   "outputs": [
    {
     "data": {
      "text/plain": [
       "Text(0, 0.5, 'True Positive Rate')"
      ]
     },
     "execution_count": 11,
     "metadata": {},
     "output_type": "execute_result"
    },
    {
     "data": {
      "image/png": "[encoded data removed]",
      "text/plain": [
       "<Figure size 640x480 with 1 Axes>"
      ]
     },
     "metadata": {},
     "output_type": "display_data"
    }
   ],
   "source": [
    "# Строим ROC-кривую\n",
    "fpr, tpr, _ = roc_curve(y_test, y_pred)\n",
    "plt.plot(fpr, tpr)\n",
    "plt.title('ROC Curve')\n",
    "plt.xlabel('False Positive Rate')\n",
    "plt.ylabel('True Positive Rate')"
   ]
  },
  {
   "cell_type": "code",
   "execution_count": 12,
   "metadata": {},
   "outputs": [
    {
     "data": {
      "text/plain": [
       "Text(0, 0.5, 'Precision')"
      ]
     },
     "execution_count": 12,
     "metadata": {},
     "output_type": "execute_result"
    },
    {
     "data": {
      "image/png": "[encoded data removed]",
      "text/plain": [
       "<Figure size 640x480 with 1 Axes>"
      ]
     },
     "metadata": {},
     "output_type": "display_data"
    }
   ],
   "source": [
    "# Строим PR-кривую\n",
    "plt.figure()\n",
    "plt.plot(recall, precision)\n",
    "plt.title('Precision-Recall Curve')\n",
    "plt.xlabel('Recall')\n",
    "plt.ylabel('Precision')"
   ]
  },
  {
   "cell_type": "markdown",
   "metadata": {},
   "source": [
    "## Интерпретация результатов:\n",
    "- ROC-AUC является мерой качества классификации, которая оценивает способность модели различать между классами. Значение ROC-AUC равное 1 означает идеальную разделимость классов, а значение 0.5 означает случайное угадывание классов.\n",
    "В нашем случае значение ROC-AUC: 0.8471293122432306, что является хорошим, но не идеальным результатом.\n",
    "- PR-AUC также является мерой качества классификации, которая оценивает способность модели находить положительные примеры. \n",
    "PR-AUC: 0.8850783873743568 - достаточно хороший результат.\n",
    "- ROC-кривая показывает зависимость между True Positive Rate (чувствительность) и False Positive Rate (специфичность) при изменении порога классификации. Чем выше кривая поднимается, тем лучше. PR-кривая показывает зависимость между Precision (точность) и Recall (полнота) при изменении порога классификации. Чем ближе кривая к верхнему правому углу, тем лучше.\n",
    "Видим, что графики показывают результат достаточно хороший чтобы перестать подбираться параметры и перейти к следующим заданиям."
   ]
  },
  {
   "cell_type": "markdown",
   "metadata": {},
   "source": [
    "## Часть 2. Работа с категориальными переменными (3 балла)"
   ]
  },
  {
   "cell_type": "markdown",
   "metadata": {},
   "source": [
    "В этой части мы научимся обрабатывать категориальные переменные, так как закодировать их в виде чисел недостаточно (это задаёт некоторый порядок, которого на категориальных переменных может и не быть). Существует два основных способа обработки категориальных значений:\n",
    "- One-hot-кодирование\n",
    "- Счётчики (CTR, mean-target кодирование, ...) — каждый категориальный признак заменяется на среднее значение целевой переменной по всем объектам, имеющим одинаковое значение в этом признаке.\n",
    "\n",
    "Начнём с one-hot-кодирования. Допустим наш категориальный признак $f_j(x)$ принимает значения из множества $C=\\{c_1, \\dots, c_m\\}$. Заменим его на $m$ бинарных признаков $b_1(x), \\dots, b_m(x)$, каждый из которых является индикатором одного из возможных категориальных значений:\n",
    "$$\n",
    "b_i(x) = [f_j(x) = c_i]\n",
    "$$"
   ]
  },
  {
   "cell_type": "markdown",
   "metadata": {
    "ExecuteTime": {
     "end_time": "2018-10-11T20:41:54.913436Z",
     "start_time": "2018-10-11T20:41:54.907515Z"
    }
   },
   "source": [
    "__Подготовка данных.__\n",
    "\n",
    "Загрузим данные с конкурса  [Kaggle Porto Seguro’s Safe Driver Prediction](https://www.kaggle.com/c/porto-seguro-safe-driver-prediction) (вам нужна только обучающая выборка). Задача состоит в определении водителей, которые в ближайший год воспользуются своей автомобильной страховкой (бинарная классификация). Но для нас важна будет не сама задача, а только её данные. При этом для задания мы немного модифицируем датасет."
   ]
  },
  {
   "cell_type": "code",
   "execution_count": 13,
   "metadata": {
    "ExecuteTime": {
     "end_time": "2018-10-12T07:36:04.765536Z",
     "start_time": "2018-10-12T07:35:57.814973Z"
    }
   },
   "outputs": [],
   "source": [
    "data = pd.read_csv('train.csv', index_col=0)\n",
    "target = data.target.values\n",
    "data = data.drop('target', axis=1)"
   ]
  },
  {
   "cell_type": "code",
   "execution_count": 14,
   "metadata": {},
   "outputs": [
    {
     "data": {
      "text/html": [
       "<div>\n",
       "<style scoped>\n",
       "    .dataframe tbody tr th:only-of-type {\n",
       "        vertical-align: middle;\n",
       "    }\n",
       "\n",
       "    .dataframe tbody tr th {\n",
       "        vertical-align: top;\n",
       "    }\n",
       "\n",
       "    .dataframe thead th {\n",
       "        text-align: right;\n",
       "    }\n",
       "</style>\n",
       "<table border=\"1\" class=\"dataframe\">\n",
       "  <thead>\n",
       "    <tr style=\"text-align: right;\">\n",
       "      <th></th>\n",
       "      <th>ps_ind_01</th>\n",
       "      <th>ps_ind_02_cat</th>\n",
       "      <th>ps_ind_03</th>\n",
       "      <th>ps_ind_04_cat</th>\n",
       "      <th>ps_ind_05_cat</th>\n",
       "      <th>ps_ind_06_bin</th>\n",
       "      <th>ps_ind_07_bin</th>\n",
       "      <th>ps_ind_08_bin</th>\n",
       "      <th>ps_ind_09_bin</th>\n",
       "      <th>ps_ind_10_bin</th>\n",
       "      <th>...</th>\n",
       "      <th>ps_calc_11</th>\n",
       "      <th>ps_calc_12</th>\n",
       "      <th>ps_calc_13</th>\n",
       "      <th>ps_calc_14</th>\n",
       "      <th>ps_calc_15_bin</th>\n",
       "      <th>ps_calc_16_bin</th>\n",
       "      <th>ps_calc_17_bin</th>\n",
       "      <th>ps_calc_18_bin</th>\n",
       "      <th>ps_calc_19_bin</th>\n",
       "      <th>ps_calc_20_bin</th>\n",
       "    </tr>\n",
       "    <tr>\n",
       "      <th>id</th>\n",
       "      <th></th>\n",
       "      <th></th>\n",
       "      <th></th>\n",
       "      <th></th>\n",
       "      <th></th>\n",
       "      <th></th>\n",
       "      <th></th>\n",
       "      <th></th>\n",
       "      <th></th>\n",
       "      <th></th>\n",
       "      <th></th>\n",
       "      <th></th>\n",
       "      <th></th>\n",
       "      <th></th>\n",
       "      <th></th>\n",
       "      <th></th>\n",
       "      <th></th>\n",
       "      <th></th>\n",
       "      <th></th>\n",
       "      <th></th>\n",
       "      <th></th>\n",
       "    </tr>\n",
       "  </thead>\n",
       "  <tbody>\n",
       "    <tr>\n",
       "      <th>7</th>\n",
       "      <td>2</td>\n",
       "      <td>2</td>\n",
       "      <td>5</td>\n",
       "      <td>1</td>\n",
       "      <td>0</td>\n",
       "      <td>0</td>\n",
       "      <td>1</td>\n",
       "      <td>0</td>\n",
       "      <td>0</td>\n",
       "      <td>0</td>\n",
       "      <td>...</td>\n",
       "      <td>9</td>\n",
       "      <td>1</td>\n",
       "      <td>5</td>\n",
       "      <td>8</td>\n",
       "      <td>0</td>\n",
       "      <td>1</td>\n",
       "      <td>1</td>\n",
       "      <td>0</td>\n",
       "      <td>0</td>\n",
       "      <td>1</td>\n",
       "    </tr>\n",
       "    <tr>\n",
       "      <th>9</th>\n",
       "      <td>1</td>\n",
       "      <td>1</td>\n",
       "      <td>7</td>\n",
       "      <td>0</td>\n",
       "      <td>0</td>\n",
       "      <td>0</td>\n",
       "      <td>0</td>\n",
       "      <td>1</td>\n",
       "      <td>0</td>\n",
       "      <td>0</td>\n",
       "      <td>...</td>\n",
       "      <td>3</td>\n",
       "      <td>1</td>\n",
       "      <td>1</td>\n",
       "      <td>9</td>\n",
       "      <td>0</td>\n",
       "      <td>1</td>\n",
       "      <td>1</td>\n",
       "      <td>0</td>\n",
       "      <td>1</td>\n",
       "      <td>0</td>\n",
       "    </tr>\n",
       "    <tr>\n",
       "      <th>13</th>\n",
       "      <td>5</td>\n",
       "      <td>4</td>\n",
       "      <td>9</td>\n",
       "      <td>1</td>\n",
       "      <td>0</td>\n",
       "      <td>0</td>\n",
       "      <td>0</td>\n",
       "      <td>1</td>\n",
       "      <td>0</td>\n",
       "      <td>0</td>\n",
       "      <td>...</td>\n",
       "      <td>4</td>\n",
       "      <td>2</td>\n",
       "      <td>7</td>\n",
       "      <td>7</td>\n",
       "      <td>0</td>\n",
       "      <td>1</td>\n",
       "      <td>1</td>\n",
       "      <td>0</td>\n",
       "      <td>1</td>\n",
       "      <td>0</td>\n",
       "    </tr>\n",
       "    <tr>\n",
       "      <th>16</th>\n",
       "      <td>0</td>\n",
       "      <td>1</td>\n",
       "      <td>2</td>\n",
       "      <td>0</td>\n",
       "      <td>0</td>\n",
       "      <td>1</td>\n",
       "      <td>0</td>\n",
       "      <td>0</td>\n",
       "      <td>0</td>\n",
       "      <td>0</td>\n",
       "      <td>...</td>\n",
       "      <td>2</td>\n",
       "      <td>2</td>\n",
       "      <td>4</td>\n",
       "      <td>9</td>\n",
       "      <td>0</td>\n",
       "      <td>0</td>\n",
       "      <td>0</td>\n",
       "      <td>0</td>\n",
       "      <td>0</td>\n",
       "      <td>0</td>\n",
       "    </tr>\n",
       "    <tr>\n",
       "      <th>17</th>\n",
       "      <td>0</td>\n",
       "      <td>2</td>\n",
       "      <td>0</td>\n",
       "      <td>1</td>\n",
       "      <td>0</td>\n",
       "      <td>1</td>\n",
       "      <td>0</td>\n",
       "      <td>0</td>\n",
       "      <td>0</td>\n",
       "      <td>0</td>\n",
       "      <td>...</td>\n",
       "      <td>3</td>\n",
       "      <td>1</td>\n",
       "      <td>1</td>\n",
       "      <td>3</td>\n",
       "      <td>0</td>\n",
       "      <td>0</td>\n",
       "      <td>0</td>\n",
       "      <td>1</td>\n",
       "      <td>1</td>\n",
       "      <td>0</td>\n",
       "    </tr>\n",
       "    <tr>\n",
       "      <th>19</th>\n",
       "      <td>5</td>\n",
       "      <td>1</td>\n",
       "      <td>4</td>\n",
       "      <td>0</td>\n",
       "      <td>0</td>\n",
       "      <td>0</td>\n",
       "      <td>0</td>\n",
       "      <td>0</td>\n",
       "      <td>1</td>\n",
       "      <td>0</td>\n",
       "      <td>...</td>\n",
       "      <td>4</td>\n",
       "      <td>2</td>\n",
       "      <td>0</td>\n",
       "      <td>9</td>\n",
       "      <td>0</td>\n",
       "      <td>1</td>\n",
       "      <td>0</td>\n",
       "      <td>1</td>\n",
       "      <td>1</td>\n",
       "      <td>1</td>\n",
       "    </tr>\n",
       "    <tr>\n",
       "      <th>20</th>\n",
       "      <td>2</td>\n",
       "      <td>1</td>\n",
       "      <td>3</td>\n",
       "      <td>1</td>\n",
       "      <td>0</td>\n",
       "      <td>0</td>\n",
       "      <td>1</td>\n",
       "      <td>0</td>\n",
       "      <td>0</td>\n",
       "      <td>0</td>\n",
       "      <td>...</td>\n",
       "      <td>3</td>\n",
       "      <td>0</td>\n",
       "      <td>0</td>\n",
       "      <td>10</td>\n",
       "      <td>0</td>\n",
       "      <td>1</td>\n",
       "      <td>0</td>\n",
       "      <td>0</td>\n",
       "      <td>1</td>\n",
       "      <td>0</td>\n",
       "    </tr>\n",
       "    <tr>\n",
       "      <th>22</th>\n",
       "      <td>5</td>\n",
       "      <td>1</td>\n",
       "      <td>4</td>\n",
       "      <td>0</td>\n",
       "      <td>0</td>\n",
       "      <td>1</td>\n",
       "      <td>0</td>\n",
       "      <td>0</td>\n",
       "      <td>0</td>\n",
       "      <td>0</td>\n",
       "      <td>...</td>\n",
       "      <td>7</td>\n",
       "      <td>1</td>\n",
       "      <td>3</td>\n",
       "      <td>6</td>\n",
       "      <td>1</td>\n",
       "      <td>0</td>\n",
       "      <td>1</td>\n",
       "      <td>0</td>\n",
       "      <td>1</td>\n",
       "      <td>0</td>\n",
       "    </tr>\n",
       "    <tr>\n",
       "      <th>26</th>\n",
       "      <td>5</td>\n",
       "      <td>1</td>\n",
       "      <td>3</td>\n",
       "      <td>1</td>\n",
       "      <td>0</td>\n",
       "      <td>0</td>\n",
       "      <td>0</td>\n",
       "      <td>1</td>\n",
       "      <td>0</td>\n",
       "      <td>0</td>\n",
       "      <td>...</td>\n",
       "      <td>4</td>\n",
       "      <td>2</td>\n",
       "      <td>1</td>\n",
       "      <td>5</td>\n",
       "      <td>0</td>\n",
       "      <td>1</td>\n",
       "      <td>0</td>\n",
       "      <td>0</td>\n",
       "      <td>0</td>\n",
       "      <td>1</td>\n",
       "    </tr>\n",
       "    <tr>\n",
       "      <th>28</th>\n",
       "      <td>1</td>\n",
       "      <td>1</td>\n",
       "      <td>2</td>\n",
       "      <td>0</td>\n",
       "      <td>0</td>\n",
       "      <td>0</td>\n",
       "      <td>1</td>\n",
       "      <td>0</td>\n",
       "      <td>0</td>\n",
       "      <td>0</td>\n",
       "      <td>...</td>\n",
       "      <td>3</td>\n",
       "      <td>5</td>\n",
       "      <td>0</td>\n",
       "      <td>6</td>\n",
       "      <td>0</td>\n",
       "      <td>1</td>\n",
       "      <td>0</td>\n",
       "      <td>0</td>\n",
       "      <td>1</td>\n",
       "      <td>0</td>\n",
       "    </tr>\n",
       "  </tbody>\n",
       "</table>\n",
       "<p>10 rows × 57 columns</p>\n",
       "</div>"
      ],
      "text/plain": [
       "    ps_ind_01  ps_ind_02_cat  ps_ind_03  ps_ind_04_cat  ps_ind_05_cat  \\\n",
       "id                                                                      \n",
       "7           2              2          5              1              0   \n",
       "9           1              1          7              0              0   \n",
       "13          5              4          9              1              0   \n",
       "16          0              1          2              0              0   \n",
       "17          0              2          0              1              0   \n",
       "19          5              1          4              0              0   \n",
       "20          2              1          3              1              0   \n",
       "22          5              1          4              0              0   \n",
       "26          5              1          3              1              0   \n",
       "28          1              1          2              0              0   \n",
       "\n",
       "    ps_ind_06_bin  ps_ind_07_bin  ps_ind_08_bin  ps_ind_09_bin  ps_ind_10_bin  \\\n",
       "id                                                                              \n",
       "7               0              1              0              0              0   \n",
       "9               0              0              1              0              0   \n",
       "13              0              0              1              0              0   \n",
       "16              1              0              0              0              0   \n",
       "17              1              0              0              0              0   \n",
       "19              0              0              0              1              0   \n",
       "20              0              1              0              0              0   \n",
       "22              1              0              0              0              0   \n",
       "26              0              0              1              0              0   \n",
       "28              0              1              0              0              0   \n",
       "\n",
       "    ...  ps_calc_11  ps_calc_12  ps_calc_13  ps_calc_14  ps_calc_15_bin  \\\n",
       "id  ...                                                                   \n",
       "7   ...           9           1           5           8               0   \n",
       "9   ...           3           1           1           9               0   \n",
       "13  ...           4           2           7           7               0   \n",
       "16  ...           2           2           4           9               0   \n",
       "17  ...           3           1           1           3               0   \n",
       "19  ...           4           2           0           9               0   \n",
       "20  ...           3           0           0          10               0   \n",
       "22  ...           7           1           3           6               1   \n",
       "26  ...           4           2           1           5               0   \n",
       "28  ...           3           5           0           6               0   \n",
       "\n",
       "    ps_calc_16_bin  ps_calc_17_bin  ps_calc_18_bin  ps_calc_19_bin  \\\n",
       "id                                                                   \n",
       "7                1               1               0               0   \n",
       "9                1               1               0               1   \n",
       "13               1               1               0               1   \n",
       "16               0               0               0               0   \n",
       "17               0               0               1               1   \n",
       "19               1               0               1               1   \n",
       "20               1               0               0               1   \n",
       "22               0               1               0               1   \n",
       "26               1               0               0               0   \n",
       "28               1               0               0               1   \n",
       "\n",
       "    ps_calc_20_bin  \n",
       "id                  \n",
       "7                1  \n",
       "9                0  \n",
       "13               0  \n",
       "16               0  \n",
       "17               0  \n",
       "19               1  \n",
       "20               0  \n",
       "22               0  \n",
       "26               1  \n",
       "28               0  \n",
       "\n",
       "[10 rows x 57 columns]"
      ]
     },
     "execution_count": 14,
     "metadata": {},
     "output_type": "execute_result"
    }
   ],
   "source": [
    "data.head(10)"
   ]
  },
  {
   "cell_type": "markdown",
   "metadata": {},
   "source": [
    "Пересемплируем выборку так, чтобы положительных и отрицательных объектов в выборке было одинаковое число. Разделим на обучающую и тестовую выборки.\n"
   ]
  },
  {
   "cell_type": "code",
   "execution_count": 15,
   "metadata": {
    "ExecuteTime": {
     "end_time": "2018-10-12T07:36:05.368407Z",
     "start_time": "2018-10-12T07:36:04.770388Z"
    }
   },
   "outputs": [],
   "source": [
    "# some resampling\n",
    "np.random.seed(910)\n",
    "mask_plus = np.random.choice(np.where(target == 1)[0], 100000, replace=True)\n",
    "mask_zero = np.random.choice(np.where(target == 0)[0], 100000, replace=True)\n",
    "\n",
    "data = pd.concat((data.iloc[mask_plus], data.iloc[mask_zero]))\n",
    "target = np.hstack((target[mask_plus], target[mask_zero]))\n",
    "\n",
    "X_train, X_test, y_train, y_test = train_test_split(data, target, test_size=0.5)"
   ]
  },
  {
   "cell_type": "code",
   "execution_count": 16,
   "metadata": {},
   "outputs": [
    {
     "data": {
      "text/html": [
       "<div>\n",
       "<style scoped>\n",
       "    .dataframe tbody tr th:only-of-type {\n",
       "        vertical-align: middle;\n",
       "    }\n",
       "\n",
       "    .dataframe tbody tr th {\n",
       "        vertical-align: top;\n",
       "    }\n",
       "\n",
       "    .dataframe thead th {\n",
       "        text-align: right;\n",
       "    }\n",
       "</style>\n",
       "<table border=\"1\" class=\"dataframe\">\n",
       "  <thead>\n",
       "    <tr style=\"text-align: right;\">\n",
       "      <th></th>\n",
       "      <th>ps_ind_01</th>\n",
       "      <th>ps_ind_02_cat</th>\n",
       "      <th>ps_ind_03</th>\n",
       "      <th>ps_ind_04_cat</th>\n",
       "      <th>ps_ind_05_cat</th>\n",
       "      <th>ps_ind_06_bin</th>\n",
       "      <th>ps_ind_07_bin</th>\n",
       "      <th>ps_ind_08_bin</th>\n",
       "      <th>ps_ind_09_bin</th>\n",
       "      <th>ps_ind_10_bin</th>\n",
       "      <th>...</th>\n",
       "      <th>ps_calc_11</th>\n",
       "      <th>ps_calc_12</th>\n",
       "      <th>ps_calc_13</th>\n",
       "      <th>ps_calc_14</th>\n",
       "      <th>ps_calc_15_bin</th>\n",
       "      <th>ps_calc_16_bin</th>\n",
       "      <th>ps_calc_17_bin</th>\n",
       "      <th>ps_calc_18_bin</th>\n",
       "      <th>ps_calc_19_bin</th>\n",
       "      <th>ps_calc_20_bin</th>\n",
       "    </tr>\n",
       "    <tr>\n",
       "      <th>id</th>\n",
       "      <th></th>\n",
       "      <th></th>\n",
       "      <th></th>\n",
       "      <th></th>\n",
       "      <th></th>\n",
       "      <th></th>\n",
       "      <th></th>\n",
       "      <th></th>\n",
       "      <th></th>\n",
       "      <th></th>\n",
       "      <th></th>\n",
       "      <th></th>\n",
       "      <th></th>\n",
       "      <th></th>\n",
       "      <th></th>\n",
       "      <th></th>\n",
       "      <th></th>\n",
       "      <th></th>\n",
       "      <th></th>\n",
       "      <th></th>\n",
       "      <th></th>\n",
       "    </tr>\n",
       "  </thead>\n",
       "  <tbody>\n",
       "    <tr>\n",
       "      <th>1049183</th>\n",
       "      <td>0</td>\n",
       "      <td>1</td>\n",
       "      <td>5</td>\n",
       "      <td>0</td>\n",
       "      <td>0</td>\n",
       "      <td>1</td>\n",
       "      <td>0</td>\n",
       "      <td>0</td>\n",
       "      <td>0</td>\n",
       "      <td>0</td>\n",
       "      <td>...</td>\n",
       "      <td>4</td>\n",
       "      <td>3</td>\n",
       "      <td>4</td>\n",
       "      <td>6</td>\n",
       "      <td>0</td>\n",
       "      <td>0</td>\n",
       "      <td>0</td>\n",
       "      <td>0</td>\n",
       "      <td>0</td>\n",
       "      <td>0</td>\n",
       "    </tr>\n",
       "    <tr>\n",
       "      <th>106872</th>\n",
       "      <td>1</td>\n",
       "      <td>1</td>\n",
       "      <td>3</td>\n",
       "      <td>1</td>\n",
       "      <td>0</td>\n",
       "      <td>0</td>\n",
       "      <td>1</td>\n",
       "      <td>0</td>\n",
       "      <td>0</td>\n",
       "      <td>0</td>\n",
       "      <td>...</td>\n",
       "      <td>9</td>\n",
       "      <td>0</td>\n",
       "      <td>4</td>\n",
       "      <td>12</td>\n",
       "      <td>0</td>\n",
       "      <td>1</td>\n",
       "      <td>1</td>\n",
       "      <td>0</td>\n",
       "      <td>0</td>\n",
       "      <td>0</td>\n",
       "    </tr>\n",
       "    <tr>\n",
       "      <th>28943</th>\n",
       "      <td>6</td>\n",
       "      <td>2</td>\n",
       "      <td>7</td>\n",
       "      <td>1</td>\n",
       "      <td>0</td>\n",
       "      <td>0</td>\n",
       "      <td>0</td>\n",
       "      <td>1</td>\n",
       "      <td>0</td>\n",
       "      <td>0</td>\n",
       "      <td>...</td>\n",
       "      <td>4</td>\n",
       "      <td>1</td>\n",
       "      <td>2</td>\n",
       "      <td>7</td>\n",
       "      <td>0</td>\n",
       "      <td>1</td>\n",
       "      <td>1</td>\n",
       "      <td>0</td>\n",
       "      <td>1</td>\n",
       "      <td>0</td>\n",
       "    </tr>\n",
       "    <tr>\n",
       "      <th>851826</th>\n",
       "      <td>1</td>\n",
       "      <td>1</td>\n",
       "      <td>5</td>\n",
       "      <td>1</td>\n",
       "      <td>0</td>\n",
       "      <td>0</td>\n",
       "      <td>0</td>\n",
       "      <td>1</td>\n",
       "      <td>0</td>\n",
       "      <td>0</td>\n",
       "      <td>...</td>\n",
       "      <td>6</td>\n",
       "      <td>2</td>\n",
       "      <td>2</td>\n",
       "      <td>10</td>\n",
       "      <td>0</td>\n",
       "      <td>0</td>\n",
       "      <td>1</td>\n",
       "      <td>0</td>\n",
       "      <td>0</td>\n",
       "      <td>0</td>\n",
       "    </tr>\n",
       "    <tr>\n",
       "      <th>934813</th>\n",
       "      <td>0</td>\n",
       "      <td>1</td>\n",
       "      <td>1</td>\n",
       "      <td>0</td>\n",
       "      <td>4</td>\n",
       "      <td>1</td>\n",
       "      <td>0</td>\n",
       "      <td>0</td>\n",
       "      <td>0</td>\n",
       "      <td>0</td>\n",
       "      <td>...</td>\n",
       "      <td>9</td>\n",
       "      <td>1</td>\n",
       "      <td>2</td>\n",
       "      <td>14</td>\n",
       "      <td>0</td>\n",
       "      <td>1</td>\n",
       "      <td>1</td>\n",
       "      <td>0</td>\n",
       "      <td>0</td>\n",
       "      <td>0</td>\n",
       "    </tr>\n",
       "  </tbody>\n",
       "</table>\n",
       "<p>5 rows × 57 columns</p>\n",
       "</div>"
      ],
      "text/plain": [
       "         ps_ind_01  ps_ind_02_cat  ps_ind_03  ps_ind_04_cat  ps_ind_05_cat  \\\n",
       "id                                                                           \n",
       "1049183          0              1          5              0              0   \n",
       "106872           1              1          3              1              0   \n",
       "28943            6              2          7              1              0   \n",
       "851826           1              1          5              1              0   \n",
       "934813           0              1          1              0              4   \n",
       "\n",
       "         ps_ind_06_bin  ps_ind_07_bin  ps_ind_08_bin  ps_ind_09_bin  \\\n",
       "id                                                                    \n",
       "1049183              1              0              0              0   \n",
       "106872               0              1              0              0   \n",
       "28943                0              0              1              0   \n",
       "851826               0              0              1              0   \n",
       "934813               1              0              0              0   \n",
       "\n",
       "         ps_ind_10_bin  ...  ps_calc_11  ps_calc_12  ps_calc_13  ps_calc_14  \\\n",
       "id                      ...                                                   \n",
       "1049183              0  ...           4           3           4           6   \n",
       "106872               0  ...           9           0           4          12   \n",
       "28943                0  ...           4           1           2           7   \n",
       "851826               0  ...           6           2           2          10   \n",
       "934813               0  ...           9           1           2          14   \n",
       "\n",
       "         ps_calc_15_bin  ps_calc_16_bin  ps_calc_17_bin  ps_calc_18_bin  \\\n",
       "id                                                                        \n",
       "1049183               0               0               0               0   \n",
       "106872                0               1               1               0   \n",
       "28943                 0               1               1               0   \n",
       "851826                0               0               1               0   \n",
       "934813                0               1               1               0   \n",
       "\n",
       "         ps_calc_19_bin  ps_calc_20_bin  \n",
       "id                                       \n",
       "1049183               0               0  \n",
       "106872                0               0  \n",
       "28943                 1               0  \n",
       "851826                0               0  \n",
       "934813                0               0  \n",
       "\n",
       "[5 rows x 57 columns]"
      ]
     },
     "execution_count": 16,
     "metadata": {},
     "output_type": "execute_result"
    }
   ],
   "source": [
    "X_train.head()"
   ]
  },
  {
   "cell_type": "markdown",
   "metadata": {},
   "source": [
    "**Задание 5 (0 баллов).** Посчитайте качество (в этом задании будем работать c ROC-AUC) на исходных признаках при применении логистической регрессии."
   ]
  },
  {
   "cell_type": "code",
   "execution_count": 17,
   "metadata": {},
   "outputs": [
    {
     "name": "stderr",
     "output_type": "stream",
     "text": [
      "/tmp/ipykernel_1298403/4110918471.py:101: RuntimeWarning: overflow encountered in exp\n",
      "  probas = 1 / (1 + np.exp(-args))\n"
     ]
    },
    {
     "name": "stdout",
     "output_type": "stream",
     "text": [
      "PR-AUC: 0.7281708443777956\n",
      "CPU times: user 6.03 s, sys: 12.9 s, total: 19 s\n",
      "Wall time: 2.6 s\n"
     ]
    }
   ],
   "source": [
    "%%time\n",
    "model_2 = LogReg(max_iter=1000, eta=0.2, batch_size=1500)\n",
    "model_2.fit(X_train, y_train)\n",
    "y_pred = model_2.predict(X_test)\n",
    "\n",
    "precision, recall, _ = precision_recall_curve(y_test, y_pred)\n",
    "pr_auc = auc(recall, precision)\n",
    "print(\"PR-AUC:\", pr_auc)"
   ]
  },
  {
   "cell_type": "markdown",
   "metadata": {},
   "source": [
    "**Задание 6 (0.5 балла).** Закодируйте все категориальные признаки с помощью one-hot-кодирования. Обучите логистическую регрессию и посмотрите, как изменилось качество модели (с тем, что было до кодирования). Измерьте время, потребовавшееся на обучение модели."
   ]
  },
  {
   "cell_type": "code",
   "execution_count": 18,
   "metadata": {},
   "outputs": [],
   "source": [
    "from sklearn.preprocessing import OneHotEncoder\n",
    "\n",
    "categorical_columns = [column for column in X_train.columns if \"cat\" in column]\n",
    "\n",
    "X_train.reset_index(drop=True, inplace=True)\n",
    "X_test.reset_index(drop=True, inplace=True)\n",
    "\n",
    "encoder = OneHotEncoder(drop='first', sparse_output=False)\n",
    "X_train_encoded = encoder.fit_transform(X_train[categorical_columns])\n",
    "X_train_encoded = pd.DataFrame(X_train_encoded, columns=encoder.get_feature_names_out())\n",
    "X_train_encoded = pd.concat([X_train.drop(columns=categorical_columns), X_train_encoded], axis=1, join='inner')\n",
    "\n",
    "X_test_encoded = encoder.transform(X_test[categorical_columns])\n",
    "X_test_encoded = pd.DataFrame(X_test_encoded, columns=encoder.get_feature_names_out())\n",
    "X_test_encoded = pd.concat([X_test.drop(columns=categorical_columns), X_test_encoded], axis=1, join='inner')"
   ]
  },
  {
   "cell_type": "code",
   "execution_count": 19,
   "metadata": {},
   "outputs": [],
   "source": [
    "model_2 = LogReg(batch_size=1000)"
   ]
  },
  {
   "cell_type": "code",
   "execution_count": 20,
   "metadata": {},
   "outputs": [
    {
     "name": "stderr",
     "output_type": "stream",
     "text": [
      "/tmp/ipykernel_1298403/4110918471.py:101: RuntimeWarning: overflow encountered in exp\n",
      "  probas = 1 / (1 + np.exp(-args))\n"
     ]
    },
    {
     "name": "stdout",
     "output_type": "stream",
     "text": [
      "CPU times: user 11.7 s, sys: 22.4 s, total: 34.1 s\n",
      "Wall time: 4.99 s\n"
     ]
    },
    {
     "data": {
      "text/html": [
       "<style>#sk-container-id-2 {color: black;}#sk-container-id-2 pre{padding: 0;}#sk-container-id-2 div.sk-toggleable {background-color: white;}#sk-container-id-2 label.sk-toggleable__label {cursor: pointer;display: block;width: 100%;margin-bottom: 0;padding: 0.3em;box-sizing: border-box;text-align: center;}#sk-container-id-2 label.sk-toggleable__label-arrow:before {content: \"▸\";float: left;margin-right: 0.25em;color: #696969;}#sk-container-id-2 label.sk-toggleable__label-arrow:hover:before {color: black;}#sk-container-id-2 div.sk-estimator:hover label.sk-toggleable__label-arrow:before {color: black;}#sk-container-id-2 div.sk-toggleable__content {max-height: 0;max-width: 0;overflow: hidden;text-align: left;background-color: #f0f8ff;}#sk-container-id-2 div.sk-toggleable__content pre {margin: 0.2em;color: black;border-radius: 0.25em;background-color: #f0f8ff;}#sk-container-id-2 input.sk-toggleable__control:checked~div.sk-toggleable__content {max-height: 200px;max-width: 100%;overflow: auto;}#sk-container-id-2 input.sk-toggleable__control:checked~label.sk-toggleable__label-arrow:before {content: \"▾\";}#sk-container-id-2 div.sk-estimator input.sk-toggleable__control:checked~label.sk-toggleable__label {background-color: #d4ebff;}#sk-container-id-2 div.sk-label input.sk-toggleable__control:checked~label.sk-toggleable__label {background-color: #d4ebff;}#sk-container-id-2 input.sk-hidden--visually {border: 0;clip: rect(1px 1px 1px 1px);clip: rect(1px, 1px, 1px, 1px);height: 1px;margin: -1px;overflow: hidden;padding: 0;position: absolute;width: 1px;}#sk-container-id-2 div.sk-estimator {font-family: monospace;background-color: #f0f8ff;border: 1px dotted black;border-radius: 0.25em;box-sizing: border-box;margin-bottom: 0.5em;}#sk-container-id-2 div.sk-estimator:hover {background-color: #d4ebff;}#sk-container-id-2 div.sk-parallel-item::after {content: \"\";width: 100%;border-bottom: 1px solid gray;flex-grow: 1;}#sk-container-id-2 div.sk-label:hover label.sk-toggleable__label {background-color: #d4ebff;}#sk-container-id-2 div.sk-serial::before {content: \"\";position: absolute;border-left: 1px solid gray;box-sizing: border-box;top: 0;bottom: 0;left: 50%;z-index: 0;}#sk-container-id-2 div.sk-serial {display: flex;flex-direction: column;align-items: center;background-color: white;padding-right: 0.2em;padding-left: 0.2em;position: relative;}#sk-container-id-2 div.sk-item {position: relative;z-index: 1;}#sk-container-id-2 div.sk-parallel {display: flex;align-items: stretch;justify-content: center;background-color: white;position: relative;}#sk-container-id-2 div.sk-item::before, #sk-container-id-2 div.sk-parallel-item::before {content: \"\";position: absolute;border-left: 1px solid gray;box-sizing: border-box;top: 0;bottom: 0;left: 50%;z-index: -1;}#sk-container-id-2 div.sk-parallel-item {display: flex;flex-direction: column;z-index: 1;position: relative;background-color: white;}#sk-container-id-2 div.sk-parallel-item:first-child::after {align-self: flex-end;width: 50%;}#sk-container-id-2 div.sk-parallel-item:last-child::after {align-self: flex-start;width: 50%;}#sk-container-id-2 div.sk-parallel-item:only-child::after {width: 0;}#sk-container-id-2 div.sk-dashed-wrapped {border: 1px dashed gray;margin: 0 0.4em 0.5em 0.4em;box-sizing: border-box;padding-bottom: 0.4em;background-color: white;}#sk-container-id-2 div.sk-label label {font-family: monospace;font-weight: bold;display: inline-block;line-height: 1.2em;}#sk-container-id-2 div.sk-label-container {text-align: center;}#sk-container-id-2 div.sk-container {/* jupyter's `normalize.less` sets `[hidden] { display: none; }` but bootstrap.min.css set `[hidden] { display: none !important; }` so we also need the `!important` here to be able to override the default hidden behavior on the sphinx rendered scikit-learn.org. See: https://github.com/scikit-learn/scikit-learn/issues/21755 */display: inline-block !important;position: relative;}#sk-container-id-2 div.sk-text-repr-fallback {display: none;}</style><div id=\"sk-container-id-2\" class=\"sk-top-container\"><div class=\"sk-text-repr-fallback\"><pre>LogReg(batch_size=1000,\n",
       "       w0=array([[-0.05922669],\n",
       "       [-0.00886927],\n",
       "       [ 0.32656151],\n",
       "       [ 0.91701777],\n",
       "       [ 0.78672354],\n",
       "       [ 0.07132381],\n",
       "       [ 0.32016465],\n",
       "       [ 0.46559066],\n",
       "       [ 0.63447293],\n",
       "       [ 0.26140754],\n",
       "       [ 0.17513322],\n",
       "       [-0.04308835],\n",
       "       [ 0.24118993],\n",
       "       [ 0.77908788],\n",
       "       [ 0.2956205 ],\n",
       "       [ 0.54637369],\n",
       "       [ 0.67715105],\n",
       "       [ 0.2300086 ],\n",
       "       [-0.21572648],\n",
       "       [ 0.45203081],\n",
       "       [ 0.23398159],\n",
       "       [ 0.13809773],\n",
       "       [ 0.27090771],\n",
       "       [ 0.81683241],\n",
       "       [ 0....\n",
       "       [ 0.07277798],\n",
       "       [ 0.40024767],\n",
       "       [ 0.25483221],\n",
       "       [ 0.29498287],\n",
       "       [ 0.23015708],\n",
       "       [ 0.35364444],\n",
       "       [ 0.4470003 ],\n",
       "       [ 0.19220651],\n",
       "       [ 0.33440007],\n",
       "       [ 0.76201343],\n",
       "       [ 0.73911218],\n",
       "       [ 0.32547584],\n",
       "       [ 0.37819943],\n",
       "       [ 0.10667913],\n",
       "       [ 0.61625224],\n",
       "       [ 0.29957089],\n",
       "       [ 0.52686572],\n",
       "       [ 0.73844867],\n",
       "       [ 0.24180062],\n",
       "       [ 0.97689652],\n",
       "       [ 0.52715094],\n",
       "       [ 0.49581094],\n",
       "       [ 0.40625472],\n",
       "       [ 0.67021155],\n",
       "       [ 0.24211985],\n",
       "       [ 0.05364685],\n",
       "       [ 0.54554987]]))</pre><b>In a Jupyter environment, please rerun this cell to show the HTML representation or trust the notebook. <br />On GitHub, the HTML representation is unable to render, please try loading this page with nbviewer.org.</b></div><div class=\"sk-container\" hidden><div class=\"sk-item\"><div class=\"sk-estimator sk-toggleable\"><input class=\"sk-toggleable__control sk-hidden--visually\" id=\"sk-estimator-id-2\" type=\"checkbox\" checked><label for=\"sk-estimator-id-2\" class=\"sk-toggleable__label sk-toggleable__label-arrow\">LogReg</label><div class=\"sk-toggleable__content\"><pre>LogReg(batch_size=1000,\n",
       "       w0=array([[-0.05922669],\n",
       "       [-0.00886927],\n",
       "       [ 0.32656151],\n",
       "       [ 0.91701777],\n",
       "       [ 0.78672354],\n",
       "       [ 0.07132381],\n",
       "       [ 0.32016465],\n",
       "       [ 0.46559066],\n",
       "       [ 0.63447293],\n",
       "       [ 0.26140754],\n",
       "       [ 0.17513322],\n",
       "       [-0.04308835],\n",
       "       [ 0.24118993],\n",
       "       [ 0.77908788],\n",
       "       [ 0.2956205 ],\n",
       "       [ 0.54637369],\n",
       "       [ 0.67715105],\n",
       "       [ 0.2300086 ],\n",
       "       [-0.21572648],\n",
       "       [ 0.45203081],\n",
       "       [ 0.23398159],\n",
       "       [ 0.13809773],\n",
       "       [ 0.27090771],\n",
       "       [ 0.81683241],\n",
       "       [ 0....\n",
       "       [ 0.07277798],\n",
       "       [ 0.40024767],\n",
       "       [ 0.25483221],\n",
       "       [ 0.29498287],\n",
       "       [ 0.23015708],\n",
       "       [ 0.35364444],\n",
       "       [ 0.4470003 ],\n",
       "       [ 0.19220651],\n",
       "       [ 0.33440007],\n",
       "       [ 0.76201343],\n",
       "       [ 0.73911218],\n",
       "       [ 0.32547584],\n",
       "       [ 0.37819943],\n",
       "       [ 0.10667913],\n",
       "       [ 0.61625224],\n",
       "       [ 0.29957089],\n",
       "       [ 0.52686572],\n",
       "       [ 0.73844867],\n",
       "       [ 0.24180062],\n",
       "       [ 0.97689652],\n",
       "       [ 0.52715094],\n",
       "       [ 0.49581094],\n",
       "       [ 0.40625472],\n",
       "       [ 0.67021155],\n",
       "       [ 0.24211985],\n",
       "       [ 0.05364685],\n",
       "       [ 0.54554987]]))</pre></div></div></div></div></div>"
      ],
      "text/plain": [
       "LogReg(batch_size=1000,\n",
       "       w0=array([[-0.05922669],\n",
       "       [-0.00886927],\n",
       "       [ 0.32656151],\n",
       "       [ 0.91701777],\n",
       "       [ 0.78672354],\n",
       "       [ 0.07132381],\n",
       "       [ 0.32016465],\n",
       "       [ 0.46559066],\n",
       "       [ 0.63447293],\n",
       "       [ 0.26140754],\n",
       "       [ 0.17513322],\n",
       "       [-0.04308835],\n",
       "       [ 0.24118993],\n",
       "       [ 0.77908788],\n",
       "       [ 0.2956205 ],\n",
       "       [ 0.54637369],\n",
       "       [ 0.67715105],\n",
       "       [ 0.2300086 ],\n",
       "       [-0.21572648],\n",
       "       [ 0.45203081],\n",
       "       [ 0.23398159],\n",
       "       [ 0.13809773],\n",
       "       [ 0.27090771],\n",
       "       [ 0.81683241],\n",
       "       [ 0....\n",
       "       [ 0.07277798],\n",
       "       [ 0.40024767],\n",
       "       [ 0.25483221],\n",
       "       [ 0.29498287],\n",
       "       [ 0.23015708],\n",
       "       [ 0.35364444],\n",
       "       [ 0.4470003 ],\n",
       "       [ 0.19220651],\n",
       "       [ 0.33440007],\n",
       "       [ 0.76201343],\n",
       "       [ 0.73911218],\n",
       "       [ 0.32547584],\n",
       "       [ 0.37819943],\n",
       "       [ 0.10667913],\n",
       "       [ 0.61625224],\n",
       "       [ 0.29957089],\n",
       "       [ 0.52686572],\n",
       "       [ 0.73844867],\n",
       "       [ 0.24180062],\n",
       "       [ 0.97689652],\n",
       "       [ 0.52715094],\n",
       "       [ 0.49581094],\n",
       "       [ 0.40625472],\n",
       "       [ 0.67021155],\n",
       "       [ 0.24211985],\n",
       "       [ 0.05364685],\n",
       "       [ 0.54554987]]))"
      ]
     },
     "execution_count": 20,
     "metadata": {},
     "output_type": "execute_result"
    }
   ],
   "source": [
    "%%time\n",
    "model_2.fit(X_train_encoded, y_train)"
   ]
  },
  {
   "cell_type": "code",
   "execution_count": 21,
   "metadata": {},
   "outputs": [
    {
     "name": "stdout",
     "output_type": "stream",
     "text": [
      "PR-AUC: 0.6816232994386251\n"
     ]
    }
   ],
   "source": [
    "y_pred = model_2.predict(X_test_encoded)\n",
    "\n",
    "precision, recall, _ = precision_recall_curve(y_test, y_pred)\n",
    "pr_auc = auc(recall, precision)\n",
    "print(\"PR-AUC:\", pr_auc)"
   ]
  },
  {
   "cell_type": "markdown",
   "metadata": {},
   "source": [
    "**Время, необходимое для обучения модели увеличилось почти в два раза.**"
   ]
  },
  {
   "cell_type": "markdown",
   "metadata": {},
   "source": [
    "Как можно было заменить, one-hot-кодирование сильно увилечивает количество признаков в датасете, что сказывается на памяти, особенно, если некоторый признак имеет большое количество значений. Эту проблему решает другой способ кодирование категориальных признаков — счётчики. Основная идея в том, что нам важны не сами категории, а значения целевой переменной, которые имеют объекты этой категории. Каждый категориальный признак мы заменим средним значением целевой переменной по всем объектам этой же категории:\n",
    "$$\n",
    "g_j(x, X) = \\frac{\\sum_{i=1}^{l} [f_j(x) = f_j(x_i)][y_i = +1]}{\\sum_{i=1}^{l} [f_j(x) = f_j(x_i)]}\n",
    "$$\n",
    "\n",
    "__Задание 7 (1.5 балла).__ Закодируйте категориальные переменные с помощью счётчиков (ровно так, как описано выше, без каких-либо хитростей). Обучите логистическую регрессию и посмотрите на качество модели на тестовом множестве. Сравните время обучения с предыдущим экспериментом. Заметили ли вы что-то интересное?\n"
   ]
  },
  {
   "cell_type": "code",
   "execution_count": 22,
   "metadata": {},
   "outputs": [],
   "source": [
    "for category in categorical_columns:\n",
    "    full = pd.concat([X_train.reset_index(drop=True), pd.Series(y_train, name='target')], axis=1)\n",
    "    replace = full.groupby(category).agg({'target': 'mean'}).to_dict()['target']\n",
    "    X_train[category] = X_train[category].replace(replace)\n",
    "    X_test[category] = X_test[category].replace(replace)"
   ]
  },
  {
   "cell_type": "code",
   "execution_count": 32,
   "metadata": {},
   "outputs": [
    {
     "name": "stderr",
     "output_type": "stream",
     "text": [
      "/tmp/ipykernel_1298403/4110918471.py:101: RuntimeWarning: overflow encountered in exp\n",
      "  probas = 1 / (1 + np.exp(-args))\n"
     ]
    },
    {
     "name": "stdout",
     "output_type": "stream",
     "text": [
      "CPU times: user 1.77 s, sys: 4.59 s, total: 6.36 s\n",
      "Wall time: 1.12 s\n"
     ]
    },
    {
     "data": {
      "text/html": [
       "<style>#sk-container-id-5 {color: black;}#sk-container-id-5 pre{padding: 0;}#sk-container-id-5 div.sk-toggleable {background-color: white;}#sk-container-id-5 label.sk-toggleable__label {cursor: pointer;display: block;width: 100%;margin-bottom: 0;padding: 0.3em;box-sizing: border-box;text-align: center;}#sk-container-id-5 label.sk-toggleable__label-arrow:before {content: \"▸\";float: left;margin-right: 0.25em;color: #696969;}#sk-container-id-5 label.sk-toggleable__label-arrow:hover:before {color: black;}#sk-container-id-5 div.sk-estimator:hover label.sk-toggleable__label-arrow:before {color: black;}#sk-container-id-5 div.sk-toggleable__content {max-height: 0;max-width: 0;overflow: hidden;text-align: left;background-color: #f0f8ff;}#sk-container-id-5 div.sk-toggleable__content pre {margin: 0.2em;color: black;border-radius: 0.25em;background-color: #f0f8ff;}#sk-container-id-5 input.sk-toggleable__control:checked~div.sk-toggleable__content {max-height: 200px;max-width: 100%;overflow: auto;}#sk-container-id-5 input.sk-toggleable__control:checked~label.sk-toggleable__label-arrow:before {content: \"▾\";}#sk-container-id-5 div.sk-estimator input.sk-toggleable__control:checked~label.sk-toggleable__label {background-color: #d4ebff;}#sk-container-id-5 div.sk-label input.sk-toggleable__control:checked~label.sk-toggleable__label {background-color: #d4ebff;}#sk-container-id-5 input.sk-hidden--visually {border: 0;clip: rect(1px 1px 1px 1px);clip: rect(1px, 1px, 1px, 1px);height: 1px;margin: -1px;overflow: hidden;padding: 0;position: absolute;width: 1px;}#sk-container-id-5 div.sk-estimator {font-family: monospace;background-color: #f0f8ff;border: 1px dotted black;border-radius: 0.25em;box-sizing: border-box;margin-bottom: 0.5em;}#sk-container-id-5 div.sk-estimator:hover {background-color: #d4ebff;}#sk-container-id-5 div.sk-parallel-item::after {content: \"\";width: 100%;border-bottom: 1px solid gray;flex-grow: 1;}#sk-container-id-5 div.sk-label:hover label.sk-toggleable__label {background-color: #d4ebff;}#sk-container-id-5 div.sk-serial::before {content: \"\";position: absolute;border-left: 1px solid gray;box-sizing: border-box;top: 0;bottom: 0;left: 50%;z-index: 0;}#sk-container-id-5 div.sk-serial {display: flex;flex-direction: column;align-items: center;background-color: white;padding-right: 0.2em;padding-left: 0.2em;position: relative;}#sk-container-id-5 div.sk-item {position: relative;z-index: 1;}#sk-container-id-5 div.sk-parallel {display: flex;align-items: stretch;justify-content: center;background-color: white;position: relative;}#sk-container-id-5 div.sk-item::before, #sk-container-id-5 div.sk-parallel-item::before {content: \"\";position: absolute;border-left: 1px solid gray;box-sizing: border-box;top: 0;bottom: 0;left: 50%;z-index: -1;}#sk-container-id-5 div.sk-parallel-item {display: flex;flex-direction: column;z-index: 1;position: relative;background-color: white;}#sk-container-id-5 div.sk-parallel-item:first-child::after {align-self: flex-end;width: 50%;}#sk-container-id-5 div.sk-parallel-item:last-child::after {align-self: flex-start;width: 50%;}#sk-container-id-5 div.sk-parallel-item:only-child::after {width: 0;}#sk-container-id-5 div.sk-dashed-wrapped {border: 1px dashed gray;margin: 0 0.4em 0.5em 0.4em;box-sizing: border-box;padding-bottom: 0.4em;background-color: white;}#sk-container-id-5 div.sk-label label {font-family: monospace;font-weight: bold;display: inline-block;line-height: 1.2em;}#sk-container-id-5 div.sk-label-container {text-align: center;}#sk-container-id-5 div.sk-container {/* jupyter's `normalize.less` sets `[hidden] { display: none; }` but bootstrap.min.css set `[hidden] { display: none !important; }` so we also need the `!important` here to be able to override the default hidden behavior on the sphinx rendered scikit-learn.org. See: https://github.com/scikit-learn/scikit-learn/issues/21755 */display: inline-block !important;position: relative;}#sk-container-id-5 div.sk-text-repr-fallback {display: none;}</style><div id=\"sk-container-id-5\" class=\"sk-top-container\"><div class=\"sk-text-repr-fallback\"><pre>LogReg(batch_size=1000,\n",
       "       w0=array([[-1.33028050e+01],\n",
       "       [-9.82458746e+00],\n",
       "       [-3.35267225e+01],\n",
       "       [-2.11187545e+00],\n",
       "       [-1.84951997e+00],\n",
       "       [-2.52079009e+00],\n",
       "       [-1.33987369e+00],\n",
       "       [-5.05259464e-01],\n",
       "       [-1.19227209e+00],\n",
       "       [ 6.19635308e-01],\n",
       "       [ 7.01396027e-01],\n",
       "       [-9.59019251e-03],\n",
       "       [ 7.24126352e-01],\n",
       "       [ 5.69402547e-01],\n",
       "       [-5.75731215e+01],\n",
       "       [-5.30834201e+00],\n",
       "       [-2.64187613e-01],\n",
       "       [-6.58934573e-0...\n",
       "       [-2.53542549e+00],\n",
       "       [-2.67591721e+00],\n",
       "       [-3.04098603e+00],\n",
       "       [-1.78764539e+01],\n",
       "       [-1.39554558e+01],\n",
       "       [-5.73970976e+01],\n",
       "       [-2.15775884e+01],\n",
       "       [-7.00177379e+01],\n",
       "       [-1.74690454e+01],\n",
       "       [-6.33145591e+01],\n",
       "       [-4.01334315e+01],\n",
       "       [-1.10061374e+01],\n",
       "       [-2.12134799e+01],\n",
       "       [-5.66231569e+01],\n",
       "       [-6.31585965e-01],\n",
       "       [-3.81564079e+00],\n",
       "       [-3.38641007e+00],\n",
       "       [-1.49727227e+00],\n",
       "       [-2.12838979e+00],\n",
       "       [-3.54026771e-01]]))</pre><b>In a Jupyter environment, please rerun this cell to show the HTML representation or trust the notebook. <br />On GitHub, the HTML representation is unable to render, please try loading this page with nbviewer.org.</b></div><div class=\"sk-container\" hidden><div class=\"sk-item\"><div class=\"sk-estimator sk-toggleable\"><input class=\"sk-toggleable__control sk-hidden--visually\" id=\"sk-estimator-id-5\" type=\"checkbox\" checked><label for=\"sk-estimator-id-5\" class=\"sk-toggleable__label sk-toggleable__label-arrow\">LogReg</label><div class=\"sk-toggleable__content\"><pre>LogReg(batch_size=1000,\n",
       "       w0=array([[-1.33028050e+01],\n",
       "       [-9.82458746e+00],\n",
       "       [-3.35267225e+01],\n",
       "       [-2.11187545e+00],\n",
       "       [-1.84951997e+00],\n",
       "       [-2.52079009e+00],\n",
       "       [-1.33987369e+00],\n",
       "       [-5.05259464e-01],\n",
       "       [-1.19227209e+00],\n",
       "       [ 6.19635308e-01],\n",
       "       [ 7.01396027e-01],\n",
       "       [-9.59019251e-03],\n",
       "       [ 7.24126352e-01],\n",
       "       [ 5.69402547e-01],\n",
       "       [-5.75731215e+01],\n",
       "       [-5.30834201e+00],\n",
       "       [-2.64187613e-01],\n",
       "       [-6.58934573e-0...\n",
       "       [-2.53542549e+00],\n",
       "       [-2.67591721e+00],\n",
       "       [-3.04098603e+00],\n",
       "       [-1.78764539e+01],\n",
       "       [-1.39554558e+01],\n",
       "       [-5.73970976e+01],\n",
       "       [-2.15775884e+01],\n",
       "       [-7.00177379e+01],\n",
       "       [-1.74690454e+01],\n",
       "       [-6.33145591e+01],\n",
       "       [-4.01334315e+01],\n",
       "       [-1.10061374e+01],\n",
       "       [-2.12134799e+01],\n",
       "       [-5.66231569e+01],\n",
       "       [-6.31585965e-01],\n",
       "       [-3.81564079e+00],\n",
       "       [-3.38641007e+00],\n",
       "       [-1.49727227e+00],\n",
       "       [-2.12838979e+00],\n",
       "       [-3.54026771e-01]]))</pre></div></div></div></div></div>"
      ],
      "text/plain": [
       "LogReg(batch_size=1000,\n",
       "       w0=array([[-1.33028050e+01],\n",
       "       [-9.82458746e+00],\n",
       "       [-3.35267225e+01],\n",
       "       [-2.11187545e+00],\n",
       "       [-1.84951997e+00],\n",
       "       [-2.52079009e+00],\n",
       "       [-1.33987369e+00],\n",
       "       [-5.05259464e-01],\n",
       "       [-1.19227209e+00],\n",
       "       [ 6.19635308e-01],\n",
       "       [ 7.01396027e-01],\n",
       "       [-9.59019251e-03],\n",
       "       [ 7.24126352e-01],\n",
       "       [ 5.69402547e-01],\n",
       "       [-5.75731215e+01],\n",
       "       [-5.30834201e+00],\n",
       "       [-2.64187613e-01],\n",
       "       [-6.58934573e-0...\n",
       "       [-2.53542549e+00],\n",
       "       [-2.67591721e+00],\n",
       "       [-3.04098603e+00],\n",
       "       [-1.78764539e+01],\n",
       "       [-1.39554558e+01],\n",
       "       [-5.73970976e+01],\n",
       "       [-2.15775884e+01],\n",
       "       [-7.00177379e+01],\n",
       "       [-1.74690454e+01],\n",
       "       [-6.33145591e+01],\n",
       "       [-4.01334315e+01],\n",
       "       [-1.10061374e+01],\n",
       "       [-2.12134799e+01],\n",
       "       [-5.66231569e+01],\n",
       "       [-6.31585965e-01],\n",
       "       [-3.81564079e+00],\n",
       "       [-3.38641007e+00],\n",
       "       [-1.49727227e+00],\n",
       "       [-2.12838979e+00],\n",
       "       [-3.54026771e-01]]))"
      ]
     },
     "execution_count": 32,
     "metadata": {},
     "output_type": "execute_result"
    }
   ],
   "source": [
    "%%time\n",
    "model_3 = LogReg(batch_size=1000)\n",
    "model_3.fit(X_train, y_train)"
   ]
  },
  {
   "cell_type": "code",
   "execution_count": 33,
   "metadata": {},
   "outputs": [
    {
     "name": "stdout",
     "output_type": "stream",
     "text": [
      "PR-AUC: 0.518148904177482\n"
     ]
    },
    {
     "name": "stderr",
     "output_type": "stream",
     "text": [
      "/tmp/ipykernel_1298403/4110918471.py:101: RuntimeWarning: overflow encountered in exp\n",
      "  probas = 1 / (1 + np.exp(-args))\n"
     ]
    }
   ],
   "source": [
    "y_pred = model_3.predict(X_test)\n",
    "\n",
    "precision, recall, _ = precision_recall_curve(y_test, y_pred)\n",
    "pr_auc = auc(recall, precision)\n",
    "print(\"PR-AUC:\", pr_auc)"
   ]
  },
  {
   "cell_type": "markdown",
   "metadata": {},
   "source": [
    "**Качество упало, но скорость сильно возросла**"
   ]
  },
  {
   "cell_type": "markdown",
   "metadata": {},
   "source": [
    "Отметим, что такие признаки сами по себе являются классификаторами и, обучаясь на них, мы допускаем \"утечку\" целевой переменной в признаки. Это ведёт к переобучению, поэтому считать такие признаки необходимо так, чтобы при вычислении для конкретного объекта его целевая метка не использовалась. Это можно делать следующими способами:\n",
    "1. Вычислять значение счётчика по всем объектам расположенным выше в датасете (например, если у нас выборка отсортирована по времени).\n",
    "2. Вычислять по фолдам, то есть делить выборку на некоторое количество частей и подсчитывать значение признаков по всем фолдам кроме текущего (как делается в кросс-валидации).\n",
    "3. Внесение некоторого шума в посчитанные признаки. \n",
    "\n",
    "__Задание 8 (1 балл)__. Реализуйте корректное вычисление счётчиков самым простым способом — добавление шума к значениям (необходимо соблюсти баланс между избавление от переобучения и полезностью признаков). Снова обучите логистическую регрессию, оцените качество. Сделайте выводы.\n"
   ]
  },
  {
   "cell_type": "markdown",
   "metadata": {},
   "source": [
    "## Часть 3. Отбор признаков (3 балла + 1 бонус)"
   ]
  },
  {
   "cell_type": "markdown",
   "metadata": {},
   "source": [
    "Важной частью процесса построения модели является отбор признаков. На практике многие признаки оказывают малое влияние на модель (при этом они увеличивают время вычислений) или даже негативно сказываются на качестве модели. Попробуем несколько подходов отбора признаков, оценим, как они влияют на качество модели и сколько времени занимают.\n",
    "\n",
    "Обратимся к тому же датасету про обращение клиентов по страховым случаям. Обойдёмся без сэмплирования объектов."
   ]
  },
  {
   "cell_type": "code",
   "execution_count": 39,
   "metadata": {
    "ExecuteTime": {
     "end_time": "2018-10-12T07:36:04.765536Z",
     "start_time": "2018-10-12T07:35:57.814973Z"
    }
   },
   "outputs": [],
   "source": [
    "data = pd.read_csv('train.csv', index_col=0)\n",
    "target = data.target.values\n",
    "data = data.drop('target', axis=1)\n",
    "X_train, X_test, y_train, y_test = train_test_split(data, target, test_size=0.2, random_state=124)"
   ]
  },
  {
   "cell_type": "markdown",
   "metadata": {},
   "source": [
    "Как вы помните, в данных много категориальных признаков. Давайте закодируем их с помощью one-hot кодирования. Исходные колонки с категориальными признаками можно удалить. Сколько признаков мы получили?"
   ]
  },
  {
   "cell_type": "code",
   "execution_count": 40,
   "metadata": {},
   "outputs": [],
   "source": [
    "categorical_columns = [column for column in X_train.columns if \"cat\" in column]\n",
    "\n",
    "X_train.reset_index(drop=True, inplace=True)\n",
    "X_test.reset_index(drop=True, inplace=True)\n",
    "\n",
    "encoder = OneHotEncoder(drop='first', sparse_output=False)\n",
    "X_train_encoded = encoder.fit_transform(X_train[categorical_columns])\n",
    "X_train_encoded = pd.DataFrame(X_train_encoded, columns=encoder.get_feature_names_out())\n",
    "X_train_encoded = pd.concat([X_train.drop(columns=categorical_columns), X_train_encoded], axis=1, join='inner')\n",
    "\n",
    "X_test_encoded = encoder.transform(X_test[categorical_columns])\n",
    "X_test_encoded = pd.DataFrame(X_test_encoded, columns=encoder.get_feature_names_out())\n",
    "X_test_encoded = pd.concat([X_test.drop(columns=categorical_columns), X_test_encoded], axis=1, join='inner')\n"
   ]
  },
  {
   "cell_type": "code",
   "execution_count": 26,
   "metadata": {},
   "outputs": [
    {
     "data": {
      "text/plain": [
       "<bound method NDFrame.describe of         ps_ind_01  ps_ind_03  ps_ind_06_bin  ps_ind_07_bin  ps_ind_08_bin  \\\n",
       "0               1          8              0              0              1   \n",
       "1               2          2              0              0              0   \n",
       "2               0          2              1              0              0   \n",
       "3               6         11              0              1              0   \n",
       "4               3          5              0              0              1   \n",
       "...           ...        ...            ...            ...            ...   \n",
       "476164          2          6              1              0              0   \n",
       "476165          1          7              1              0              0   \n",
       "476166          3          4              0              0              0   \n",
       "476167          3          1              0              1              0   \n",
       "476168          1          0              0              0              1   \n",
       "\n",
       "        ps_ind_09_bin  ps_ind_10_bin  ps_ind_11_bin  ps_ind_12_bin  \\\n",
       "0                   0              0              0              0   \n",
       "1                   1              0              0              0   \n",
       "2                   0              0              0              0   \n",
       "3                   0              0              0              0   \n",
       "4                   0              0              0              1   \n",
       "...               ...            ...            ...            ...   \n",
       "476164              0              0              0              0   \n",
       "476165              0              0              0              0   \n",
       "476166              1              0              0              0   \n",
       "476167              0              0              0              0   \n",
       "476168              0              0              0              0   \n",
       "\n",
       "        ps_ind_13_bin  ...  ps_car_11_cat_95  ps_car_11_cat_96  \\\n",
       "0                   0  ...             False             False   \n",
       "1                   0  ...             False             False   \n",
       "2                   0  ...             False             False   \n",
       "3                   0  ...             False             False   \n",
       "4                   0  ...             False             False   \n",
       "...               ...  ...               ...               ...   \n",
       "476164              0  ...             False             False   \n",
       "476165              0  ...             False             False   \n",
       "476166              0  ...             False             False   \n",
       "476167              0  ...             False             False   \n",
       "476168              0  ...             False             False   \n",
       "\n",
       "        ps_car_11_cat_97  ps_car_11_cat_98  ps_car_11_cat_99  \\\n",
       "0                  False             False             False   \n",
       "1                  False             False             False   \n",
       "2                  False             False             False   \n",
       "3                  False             False             False   \n",
       "4                  False             False             False   \n",
       "...                  ...               ...               ...   \n",
       "476164             False             False             False   \n",
       "476165             False             False             False   \n",
       "476166             False             False             False   \n",
       "476167             False             False             False   \n",
       "476168             False             False             False   \n",
       "\n",
       "        ps_car_11_cat_100  ps_car_11_cat_101  ps_car_11_cat_102  \\\n",
       "0                   False              False              False   \n",
       "1                   False              False              False   \n",
       "2                   False              False              False   \n",
       "3                   False              False              False   \n",
       "4                   False              False              False   \n",
       "...                   ...                ...                ...   \n",
       "476164              False              False              False   \n",
       "476165              False              False              False   \n",
       "476166              False              False              False   \n",
       "476167              False              False              False   \n",
       "476168              False              False              False   \n",
       "\n",
       "        ps_car_11_cat_103  ps_car_11_cat_104  \n",
       "0                   False              False  \n",
       "1                   False              False  \n",
       "2                   False              False  \n",
       "3                   False              False  \n",
       "4                   False              False  \n",
       "...                   ...                ...  \n",
       "476164              False               True  \n",
       "476165              False               True  \n",
       "476166              False              False  \n",
       "476167              False              False  \n",
       "476168              False              False  \n",
       "\n",
       "[476169 rows x 227 columns]>"
      ]
     },
     "execution_count": 26,
     "metadata": {},
     "output_type": "execute_result"
    }
   ],
   "source": [
    "X_train_encoded.describe"
   ]
  },
  {
   "cell_type": "markdown",
   "metadata": {},
   "source": [
    "В качестве основной модели будем использовать логистическую регрессию, а целевой метрики — ROC-AUC. Обучите модель и посчитайте качество на тестовой выборке. Давайте запомним полученное значение."
   ]
  },
  {
   "cell_type": "code",
   "execution_count": 41,
   "metadata": {},
   "outputs": [
    {
     "name": "stderr",
     "output_type": "stream",
     "text": [
      "/tmp/ipykernel_1298403/4110918471.py:101: RuntimeWarning: overflow encountered in exp\n",
      "  probas = 1 / (1 + np.exp(-args))\n"
     ]
    },
    {
     "name": "stdout",
     "output_type": "stream",
     "text": [
      "CPU times: user 4.29 s, sys: 10.3 s, total: 14.5 s\n",
      "Wall time: 3.81 s\n"
     ]
    },
    {
     "data": {
      "text/html": [
       "<style>#sk-container-id-7 {color: black;}#sk-container-id-7 pre{padding: 0;}#sk-container-id-7 div.sk-toggleable {background-color: white;}#sk-container-id-7 label.sk-toggleable__label {cursor: pointer;display: block;width: 100%;margin-bottom: 0;padding: 0.3em;box-sizing: border-box;text-align: center;}#sk-container-id-7 label.sk-toggleable__label-arrow:before {content: \"▸\";float: left;margin-right: 0.25em;color: #696969;}#sk-container-id-7 label.sk-toggleable__label-arrow:hover:before {color: black;}#sk-container-id-7 div.sk-estimator:hover label.sk-toggleable__label-arrow:before {color: black;}#sk-container-id-7 div.sk-toggleable__content {max-height: 0;max-width: 0;overflow: hidden;text-align: left;background-color: #f0f8ff;}#sk-container-id-7 div.sk-toggleable__content pre {margin: 0.2em;color: black;border-radius: 0.25em;background-color: #f0f8ff;}#sk-container-id-7 input.sk-toggleable__control:checked~div.sk-toggleable__content {max-height: 200px;max-width: 100%;overflow: auto;}#sk-container-id-7 input.sk-toggleable__control:checked~label.sk-toggleable__label-arrow:before {content: \"▾\";}#sk-container-id-7 div.sk-estimator input.sk-toggleable__control:checked~label.sk-toggleable__label {background-color: #d4ebff;}#sk-container-id-7 div.sk-label input.sk-toggleable__control:checked~label.sk-toggleable__label {background-color: #d4ebff;}#sk-container-id-7 input.sk-hidden--visually {border: 0;clip: rect(1px 1px 1px 1px);clip: rect(1px, 1px, 1px, 1px);height: 1px;margin: -1px;overflow: hidden;padding: 0;position: absolute;width: 1px;}#sk-container-id-7 div.sk-estimator {font-family: monospace;background-color: #f0f8ff;border: 1px dotted black;border-radius: 0.25em;box-sizing: border-box;margin-bottom: 0.5em;}#sk-container-id-7 div.sk-estimator:hover {background-color: #d4ebff;}#sk-container-id-7 div.sk-parallel-item::after {content: \"\";width: 100%;border-bottom: 1px solid gray;flex-grow: 1;}#sk-container-id-7 div.sk-label:hover label.sk-toggleable__label {background-color: #d4ebff;}#sk-container-id-7 div.sk-serial::before {content: \"\";position: absolute;border-left: 1px solid gray;box-sizing: border-box;top: 0;bottom: 0;left: 50%;z-index: 0;}#sk-container-id-7 div.sk-serial {display: flex;flex-direction: column;align-items: center;background-color: white;padding-right: 0.2em;padding-left: 0.2em;position: relative;}#sk-container-id-7 div.sk-item {position: relative;z-index: 1;}#sk-container-id-7 div.sk-parallel {display: flex;align-items: stretch;justify-content: center;background-color: white;position: relative;}#sk-container-id-7 div.sk-item::before, #sk-container-id-7 div.sk-parallel-item::before {content: \"\";position: absolute;border-left: 1px solid gray;box-sizing: border-box;top: 0;bottom: 0;left: 50%;z-index: -1;}#sk-container-id-7 div.sk-parallel-item {display: flex;flex-direction: column;z-index: 1;position: relative;background-color: white;}#sk-container-id-7 div.sk-parallel-item:first-child::after {align-self: flex-end;width: 50%;}#sk-container-id-7 div.sk-parallel-item:last-child::after {align-self: flex-start;width: 50%;}#sk-container-id-7 div.sk-parallel-item:only-child::after {width: 0;}#sk-container-id-7 div.sk-dashed-wrapped {border: 1px dashed gray;margin: 0 0.4em 0.5em 0.4em;box-sizing: border-box;padding-bottom: 0.4em;background-color: white;}#sk-container-id-7 div.sk-label label {font-family: monospace;font-weight: bold;display: inline-block;line-height: 1.2em;}#sk-container-id-7 div.sk-label-container {text-align: center;}#sk-container-id-7 div.sk-container {/* jupyter's `normalize.less` sets `[hidden] { display: none; }` but bootstrap.min.css set `[hidden] { display: none !important; }` so we also need the `!important` here to be able to override the default hidden behavior on the sphinx rendered scikit-learn.org. See: https://github.com/scikit-learn/scikit-learn/issues/21755 */display: inline-block !important;position: relative;}#sk-container-id-7 div.sk-text-repr-fallback {display: none;}</style><div id=\"sk-container-id-7\" class=\"sk-top-container\"><div class=\"sk-text-repr-fallback\"><pre>LogReg(batch_size=1000,\n",
       "       w0=array([[-1.39985742e+01],\n",
       "       [-3.44228749e+01],\n",
       "       [-3.08430625e+00],\n",
       "       [-1.39490293e+00],\n",
       "       [-1.04787498e+00],\n",
       "       [-1.13505183e+00],\n",
       "       [ 4.68950691e-01],\n",
       "       [ 3.84325981e-01],\n",
       "       [ 1.50949607e-01],\n",
       "       [ 6.57654731e-01],\n",
       "       [ 2.49542893e-01],\n",
       "       [-5.68711141e+01],\n",
       "       [-4.91771171e+00],\n",
       "       [-5.58289033e-01],\n",
       "       [-1.09289989e+00],\n",
       "       [-4.73350871e+00],\n",
       "       [-2.64259859e+00],\n",
       "       [-3.47024099e+00...\n",
       "       [ 1.67008671e-01],\n",
       "       [ 8.77987250e-02],\n",
       "       [ 1.96476108e-01],\n",
       "       [ 7.64579308e-01],\n",
       "       [ 6.39725858e-01],\n",
       "       [-4.60137978e-02],\n",
       "       [ 8.65585081e-01],\n",
       "       [ 8.14116387e-01],\n",
       "       [ 2.73050466e-01],\n",
       "       [ 7.31157533e-01],\n",
       "       [ 3.63117037e-01],\n",
       "       [ 1.38961290e-01],\n",
       "       [ 9.20335805e-01],\n",
       "       [ 1.14942093e-01],\n",
       "       [ 3.75531255e-01],\n",
       "       [ 5.78631713e-01],\n",
       "       [ 6.37390772e-01],\n",
       "       [ 4.49217937e-01],\n",
       "       [ 8.49500946e-01],\n",
       "       [-1.54516974e-02],\n",
       "       [-2.98430403e-01]]))</pre><b>In a Jupyter environment, please rerun this cell to show the HTML representation or trust the notebook. <br />On GitHub, the HTML representation is unable to render, please try loading this page with nbviewer.org.</b></div><div class=\"sk-container\" hidden><div class=\"sk-item\"><div class=\"sk-estimator sk-toggleable\"><input class=\"sk-toggleable__control sk-hidden--visually\" id=\"sk-estimator-id-7\" type=\"checkbox\" checked><label for=\"sk-estimator-id-7\" class=\"sk-toggleable__label sk-toggleable__label-arrow\">LogReg</label><div class=\"sk-toggleable__content\"><pre>LogReg(batch_size=1000,\n",
       "       w0=array([[-1.39985742e+01],\n",
       "       [-3.44228749e+01],\n",
       "       [-3.08430625e+00],\n",
       "       [-1.39490293e+00],\n",
       "       [-1.04787498e+00],\n",
       "       [-1.13505183e+00],\n",
       "       [ 4.68950691e-01],\n",
       "       [ 3.84325981e-01],\n",
       "       [ 1.50949607e-01],\n",
       "       [ 6.57654731e-01],\n",
       "       [ 2.49542893e-01],\n",
       "       [-5.68711141e+01],\n",
       "       [-4.91771171e+00],\n",
       "       [-5.58289033e-01],\n",
       "       [-1.09289989e+00],\n",
       "       [-4.73350871e+00],\n",
       "       [-2.64259859e+00],\n",
       "       [-3.47024099e+00...\n",
       "       [ 1.67008671e-01],\n",
       "       [ 8.77987250e-02],\n",
       "       [ 1.96476108e-01],\n",
       "       [ 7.64579308e-01],\n",
       "       [ 6.39725858e-01],\n",
       "       [-4.60137978e-02],\n",
       "       [ 8.65585081e-01],\n",
       "       [ 8.14116387e-01],\n",
       "       [ 2.73050466e-01],\n",
       "       [ 7.31157533e-01],\n",
       "       [ 3.63117037e-01],\n",
       "       [ 1.38961290e-01],\n",
       "       [ 9.20335805e-01],\n",
       "       [ 1.14942093e-01],\n",
       "       [ 3.75531255e-01],\n",
       "       [ 5.78631713e-01],\n",
       "       [ 6.37390772e-01],\n",
       "       [ 4.49217937e-01],\n",
       "       [ 8.49500946e-01],\n",
       "       [-1.54516974e-02],\n",
       "       [-2.98430403e-01]]))</pre></div></div></div></div></div>"
      ],
      "text/plain": [
       "LogReg(batch_size=1000,\n",
       "       w0=array([[-1.39985742e+01],\n",
       "       [-3.44228749e+01],\n",
       "       [-3.08430625e+00],\n",
       "       [-1.39490293e+00],\n",
       "       [-1.04787498e+00],\n",
       "       [-1.13505183e+00],\n",
       "       [ 4.68950691e-01],\n",
       "       [ 3.84325981e-01],\n",
       "       [ 1.50949607e-01],\n",
       "       [ 6.57654731e-01],\n",
       "       [ 2.49542893e-01],\n",
       "       [-5.68711141e+01],\n",
       "       [-4.91771171e+00],\n",
       "       [-5.58289033e-01],\n",
       "       [-1.09289989e+00],\n",
       "       [-4.73350871e+00],\n",
       "       [-2.64259859e+00],\n",
       "       [-3.47024099e+00...\n",
       "       [ 1.67008671e-01],\n",
       "       [ 8.77987250e-02],\n",
       "       [ 1.96476108e-01],\n",
       "       [ 7.64579308e-01],\n",
       "       [ 6.39725858e-01],\n",
       "       [-4.60137978e-02],\n",
       "       [ 8.65585081e-01],\n",
       "       [ 8.14116387e-01],\n",
       "       [ 2.73050466e-01],\n",
       "       [ 7.31157533e-01],\n",
       "       [ 3.63117037e-01],\n",
       "       [ 1.38961290e-01],\n",
       "       [ 9.20335805e-01],\n",
       "       [ 1.14942093e-01],\n",
       "       [ 3.75531255e-01],\n",
       "       [ 5.78631713e-01],\n",
       "       [ 6.37390772e-01],\n",
       "       [ 4.49217937e-01],\n",
       "       [ 8.49500946e-01],\n",
       "       [-1.54516974e-02],\n",
       "       [-2.98430403e-01]]))"
      ]
     },
     "execution_count": 41,
     "metadata": {},
     "output_type": "execute_result"
    }
   ],
   "source": [
    "%%time\n",
    "model_4 = LogReg(batch_size=1000)\n",
    "model_4.fit(X_train_encoded, y_train)"
   ]
  },
  {
   "cell_type": "code",
   "execution_count": 43,
   "metadata": {},
   "outputs": [
    {
     "name": "stdout",
     "output_type": "stream",
     "text": [
      "PR-AUC: 0.518148904177482\n"
     ]
    },
    {
     "name": "stderr",
     "output_type": "stream",
     "text": [
      "/tmp/ipykernel_1298403/4110918471.py:101: RuntimeWarning: overflow encountered in exp\n",
      "  probas = 1 / (1 + np.exp(-args))\n"
     ]
    }
   ],
   "source": [
    "y_pred = model_4.predict(X_test_encoded)\n",
    "\n",
    "precision, recall, _ = precision_recall_curve(y_test, y_pred)\n",
    "pr_auc = auc(recall, precision)\n",
    "print(\"PR-AUC:\", pr_auc)"
   ]
  },
  {
   "cell_type": "markdown",
   "metadata": {},
   "source": [
    "### Встроенные методы"
   ]
  },
  {
   "cell_type": "markdown",
   "metadata": {},
   "source": [
    "Допустим, мы хотим оставить только 200 лучших признаков. Попробуем сделать это несколькими способами.\n",
    "\n",
    "Начнём с отборам признаков с помощью линейной модели. Как известно, веса линейной модели означают вклад каждого признака в предсказание модели, а значит, модуль этого вклада можно интерпретировать как важность признаков. Такой метод отбора называются встроенным или embedded methods, так как он заложен в особенности модели.\n",
    "\n",
    "__Задание 10 (1 балл).__ Оставьте 200 признаков с наибольшим модулем соответсвующего параметра линейной модели. Обучите модели заново и оцените её качество. Замерьте скорость такого отбора признаков.\n",
    "\n",
    "Изменилось ли качество? Как?"
   ]
  },
  {
   "cell_type": "markdown",
   "metadata": {},
   "source": [
    "А теперь давайте подумаем, что мы не учли. Мы предположили, что признаки вносят вклад равномерно, но не учли их масштаба. Если мы умножим один из признаков в 100 раз, то без учёта регуляризации его вес уменьшится в эти же 100 раз. А мы на основе этого отбираем признаки! Давайте сначала отнормируем признаки одним из способов, а только потом будем удалять признаки. \n",
    "\n",
    "Кстати, в таком случае надо пересчитать качество на всех признаках (сделайте это ниже). Если вы сделали нормирование признаков в самом начале, то попробуйте отобрать признаки на неотмасштабированных данных.\n",
    "\n",
    "Что получилось?"
   ]
  },
  {
   "cell_type": "code",
   "execution_count": null,
   "metadata": {},
   "outputs": [],
   "source": [
    "### ╰( ͡° ͜ʖ ͡° )つ──☆*:・ﾟ"
   ]
  },
  {
   "cell_type": "markdown",
   "metadata": {},
   "source": [
    "__Задание 10 (0.5 балла).__\n",
    "Можно задать отбор признаков более функционально. Вспомним, что L1-регуляризация также умеет отбирать признаки. Понятно, что теперь нам будет сложнее оставить именно 200 лучших признаков, но возможно они нам и не нужны. Подберите коэффициент регуляризации и проверьте, как изменилось качество. Получилось ли добиться лучшего качества при менее чем 200 признаках?"
   ]
  },
  {
   "cell_type": "code",
   "execution_count": null,
   "metadata": {},
   "outputs": [],
   "source": [
    "### ╰( ͡° ͜ʖ ͡° )つ──☆*:・ﾟ"
   ]
  },
  {
   "cell_type": "markdown",
   "metadata": {},
   "source": [
    "### Методы фильтрации"
   ]
  },
  {
   "cell_type": "markdown",
   "metadata": {},
   "source": [
    "Давайте отбирать признаки умнее, а именно через подсчёт некоторой функции для каждого признака. На основании значений этой функции будем оставлять наиболее важные признаки. Методы этого семейства называют фильтрующими или  filter methods. \n",
    "\n",
    "В качестве такой функции будем считать t-статистику:\n",
    "\n",
    "$$t(x) = \\frac{|\\mu_+ - \\mu_-|}{\\sqrt{\\frac{n_+ \\sigma^2_+ + n_- \\sigma^2_-}{n_+ + n_-}}},$$\n",
    "\n",
    "где $mu$, $sigma$, $n$ соответственно среднее, среднеквадратичное отклонение и количество объектов каждого из классов.\n",
    "\n",
    "__Задание 11 (1 балл)__. Оставьте 200 признаков с наибольшим значением и замерьте качество. Не забудьте замерить скорость отбора признаков в этом случаев."
   ]
  },
  {
   "cell_type": "code",
   "execution_count": null,
   "metadata": {},
   "outputs": [],
   "source": [
    "### ╰( ͡° ͜ʖ ͡° )つ──☆*:・ﾟ"
   ]
  },
  {
   "cell_type": "markdown",
   "metadata": {},
   "source": [
    "### Методы-обёртки"
   ]
  },
  {
   "cell_type": "markdown",
   "metadata": {},
   "source": [
    "__Задание 12 (бонус, 1 балл)__.\n",
    "\n",
    "\n",
    "Заключительный из рассматриваемых нами методов работает следующим образом: мы исключаем по очереди один из признаков и смотрим, как это влияет на качество. Удаляем признаки таким жадным способом, пока не достигнем некоторого критерия (количество признаков или ухудшением качества).\n",
    "\n",
    "Заметим, что нельзя оценивать качество по тестовой выборке, иначе мы можем переобучиться, как, например, при настройке гиперпараметров. Разделите выборку на 2 части, на одной из них обучайте модель без одного из признаков,  на второй части оценивайте качество. Исходную тестовую выборку стоит использовать только на финальной оценке качества.\n",
    "\n",
    "Сделайте одну итерацию и прикиньте, сколько времени займёт такой отбор признаков. Кажется, что чересчур. Давайте возьмём маленький сэмпл данных (например, в 10 тысяч объектов), что сильно уменьшит время итерации. Теперь это долго, но уже приемлимо. \n",
    "\n",
    "Если это всё ещё долго для вашего комьютера, можете попробовать брать не по одному признаку, а сразу по пять (и удалять сразу тоже по 5). Для этого перед каждой итерацией удаления делите заново все признаки на группы по 5 штук.\n",
    "\n",
    "Снова оставьте только 200 признаков и оцените качество на тестовой выборке. Сколько времени занял такой отбор признаков?"
   ]
  },
  {
   "cell_type": "code",
   "execution_count": null,
   "metadata": {},
   "outputs": [],
   "source": [
    "### ╰( ͡° ͜ʖ ͡° )つ──☆*:・ﾟ"
   ]
  },
  {
   "cell_type": "markdown",
   "metadata": {},
   "source": [
    "Опционально (это не оценивается) можете рассмотреть более интересные стратегии отбора, чем жадная. Например, генетические алгоритмы. Можно закодировать бинарным вектором, включаем мы или нет тот или иной признак в модель. А дальше генетическим алгоритмом оптимизировать этот вектор. Всё ещё не быстро, но точно быстрее жадного.\n"
   ]
  },
  {
   "cell_type": "markdown",
   "metadata": {},
   "source": [
    "**Задание 13 (0.5 балла)** Давайте подведём итоги по отбору признаков. Назовите преимущества и недостатки каждого из методов. Какой метод привёл к наилучшему качеству? Если не делали бонус — сравните встроенный метод и метод фильтрации.\n",
    "\n",
    "**Ответ:** ..."
   ]
  },
  {
   "cell_type": "code",
   "execution_count": null,
   "metadata": {},
   "outputs": [],
   "source": []
  }
 ],
 "metadata": {
  "kernelspec": {
   "display_name": "Python 3",
   "language": "python",
   "name": "python3"
  },
  "language_info": {
   "codemirror_mode": {
    "name": "ipython",
    "version": 3
   },
   "file_extension": ".py",
   "mimetype": "text/x-python",
   "name": "python",
   "nbconvert_exporter": "python",
   "pygments_lexer": "ipython3",
   "version": "3.10.12"
  },
  "toc": {
   "base_numbering": 1,
   "nav_menu": {},
   "number_sections": true,
   "sideBar": true,
   "skip_h1_title": true,
   "title_cell": "Table of Contents",
   "title_sidebar": "Contents",
   "toc_cell": false,
   "toc_position": {},
   "toc_section_display": true,
   "toc_window_display": false
  },
  "varInspector": {
   "cols": {
    "lenName": 16,
    "lenType": 16,
    "lenVar": 40
   },
   "kernels_config": {
    "python": {
     "delete_cmd_postfix": "",
     "delete_cmd_prefix": "del ",
     "library": "var_list.py",
     "varRefreshCmd": "print(var_dic_list())"
    },
    "r": {
     "delete_cmd_postfix": ") ",
     "delete_cmd_prefix": "rm(",
     "library": "var_list.r",
     "varRefreshCmd": "cat(var_dic_list()) "
    }
   },
   "types_to_exclude": [
    "module",
    "function",
    "builtin_function_or_method",
    "instance",
    "_Feature"
   ],
   "window_display": false
  }
 },
 "nbformat": 4,
 "nbformat_minor": 2
}
